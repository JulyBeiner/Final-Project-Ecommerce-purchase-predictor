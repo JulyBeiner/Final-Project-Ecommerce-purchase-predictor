{
 "cells": [
  {
   "cell_type": "code",
   "execution_count": 38,
   "metadata": {},
   "outputs": [],
   "source": [
    "import pandas as pd\n",
    "import matplotlib.pyplot as plt\n",
    "import seaborn as sns\n",
    "import numpy as np\n",
    "from scipy.stats import kurtosis, skew\n",
    "\n",
    "%matplotlib inline\n",
    "pd.set_option('display.max_columns', None)"
   ]
  },
  {
   "cell_type": "code",
   "execution_count": 39,
   "metadata": {},
   "outputs": [],
   "source": [
    "df1 = pd.read_csv('online_shoppers_intentions_clean')"
   ]
  },
  {
   "cell_type": "code",
   "execution_count": 40,
   "metadata": {},
   "outputs": [
    {
     "data": {
      "text/html": [
       "<div>\n",
       "<style scoped>\n",
       "    .dataframe tbody tr th:only-of-type {\n",
       "        vertical-align: middle;\n",
       "    }\n",
       "\n",
       "    .dataframe tbody tr th {\n",
       "        vertical-align: top;\n",
       "    }\n",
       "\n",
       "    .dataframe thead th {\n",
       "        text-align: right;\n",
       "    }\n",
       "</style>\n",
       "<table border=\"1\" class=\"dataframe\">\n",
       "  <thead>\n",
       "    <tr style=\"text-align: right;\">\n",
       "      <th></th>\n",
       "      <th>Administrative</th>\n",
       "      <th>Administrative_duration</th>\n",
       "      <th>Informational</th>\n",
       "      <th>Informational_duration</th>\n",
       "      <th>Product_related</th>\n",
       "      <th>Product_related_duration</th>\n",
       "      <th>Bounce_rates</th>\n",
       "      <th>Exit_rates</th>\n",
       "      <th>Page_values</th>\n",
       "      <th>Special_day</th>\n",
       "      <th>Month</th>\n",
       "      <th>Operating_systems</th>\n",
       "      <th>Browser</th>\n",
       "      <th>Region</th>\n",
       "      <th>Traffic_type</th>\n",
       "      <th>Visitor_type</th>\n",
       "      <th>Weekend</th>\n",
       "      <th>Revenue</th>\n",
       "      <th>Browser_label</th>\n",
       "      <th>Os_label</th>\n",
       "      <th>Region_label</th>\n",
       "      <th>Traffic_type_label</th>\n",
       "    </tr>\n",
       "  </thead>\n",
       "  <tbody>\n",
       "    <tr>\n",
       "      <th>0</th>\n",
       "      <td>0</td>\n",
       "      <td>0.0</td>\n",
       "      <td>0</td>\n",
       "      <td>0.0</td>\n",
       "      <td>1</td>\n",
       "      <td>0.000000</td>\n",
       "      <td>0.20</td>\n",
       "      <td>0.20</td>\n",
       "      <td>0.0</td>\n",
       "      <td>0.0</td>\n",
       "      <td>Feb</td>\n",
       "      <td>1</td>\n",
       "      <td>1</td>\n",
       "      <td>1</td>\n",
       "      <td>1</td>\n",
       "      <td>Returning Visitor</td>\n",
       "      <td>False</td>\n",
       "      <td>False</td>\n",
       "      <td>Chrome</td>\n",
       "      <td>Windows</td>\n",
       "      <td>Norteamérica</td>\n",
       "      <td>Organic Traffic</td>\n",
       "    </tr>\n",
       "    <tr>\n",
       "      <th>1</th>\n",
       "      <td>0</td>\n",
       "      <td>0.0</td>\n",
       "      <td>0</td>\n",
       "      <td>0.0</td>\n",
       "      <td>2</td>\n",
       "      <td>64.000000</td>\n",
       "      <td>0.00</td>\n",
       "      <td>0.10</td>\n",
       "      <td>0.0</td>\n",
       "      <td>0.0</td>\n",
       "      <td>Feb</td>\n",
       "      <td>2</td>\n",
       "      <td>2</td>\n",
       "      <td>1</td>\n",
       "      <td>2</td>\n",
       "      <td>Returning Visitor</td>\n",
       "      <td>False</td>\n",
       "      <td>False</td>\n",
       "      <td>Safari</td>\n",
       "      <td>MacOS</td>\n",
       "      <td>Norteamérica</td>\n",
       "      <td>Direct Traffic</td>\n",
       "    </tr>\n",
       "    <tr>\n",
       "      <th>2</th>\n",
       "      <td>0</td>\n",
       "      <td>0.0</td>\n",
       "      <td>0</td>\n",
       "      <td>0.0</td>\n",
       "      <td>1</td>\n",
       "      <td>0.000000</td>\n",
       "      <td>0.20</td>\n",
       "      <td>0.20</td>\n",
       "      <td>0.0</td>\n",
       "      <td>0.0</td>\n",
       "      <td>Feb</td>\n",
       "      <td>4</td>\n",
       "      <td>1</td>\n",
       "      <td>9</td>\n",
       "      <td>3</td>\n",
       "      <td>Returning Visitor</td>\n",
       "      <td>False</td>\n",
       "      <td>False</td>\n",
       "      <td>Chrome</td>\n",
       "      <td>Android</td>\n",
       "      <td>Other</td>\n",
       "      <td>Referral Traffic</td>\n",
       "    </tr>\n",
       "    <tr>\n",
       "      <th>3</th>\n",
       "      <td>0</td>\n",
       "      <td>0.0</td>\n",
       "      <td>0</td>\n",
       "      <td>0.0</td>\n",
       "      <td>2</td>\n",
       "      <td>2.666667</td>\n",
       "      <td>0.05</td>\n",
       "      <td>0.14</td>\n",
       "      <td>0.0</td>\n",
       "      <td>0.0</td>\n",
       "      <td>Feb</td>\n",
       "      <td>3</td>\n",
       "      <td>2</td>\n",
       "      <td>2</td>\n",
       "      <td>4</td>\n",
       "      <td>Returning Visitor</td>\n",
       "      <td>False</td>\n",
       "      <td>False</td>\n",
       "      <td>Safari</td>\n",
       "      <td>Linux</td>\n",
       "      <td>Europa</td>\n",
       "      <td>Paid Traffic</td>\n",
       "    </tr>\n",
       "    <tr>\n",
       "      <th>4</th>\n",
       "      <td>0</td>\n",
       "      <td>0.0</td>\n",
       "      <td>0</td>\n",
       "      <td>0.0</td>\n",
       "      <td>10</td>\n",
       "      <td>627.500000</td>\n",
       "      <td>0.02</td>\n",
       "      <td>0.05</td>\n",
       "      <td>0.0</td>\n",
       "      <td>0.0</td>\n",
       "      <td>Feb</td>\n",
       "      <td>3</td>\n",
       "      <td>3</td>\n",
       "      <td>1</td>\n",
       "      <td>4</td>\n",
       "      <td>Returning Visitor</td>\n",
       "      <td>True</td>\n",
       "      <td>False</td>\n",
       "      <td>Internet Explorer</td>\n",
       "      <td>Linux</td>\n",
       "      <td>Norteamérica</td>\n",
       "      <td>Paid Traffic</td>\n",
       "    </tr>\n",
       "  </tbody>\n",
       "</table>\n",
       "</div>"
      ],
      "text/plain": [
       "   Administrative  Administrative_duration  Informational  \\\n",
       "0               0                      0.0              0   \n",
       "1               0                      0.0              0   \n",
       "2               0                      0.0              0   \n",
       "3               0                      0.0              0   \n",
       "4               0                      0.0              0   \n",
       "\n",
       "   Informational_duration  Product_related  Product_related_duration  \\\n",
       "0                     0.0                1                  0.000000   \n",
       "1                     0.0                2                 64.000000   \n",
       "2                     0.0                1                  0.000000   \n",
       "3                     0.0                2                  2.666667   \n",
       "4                     0.0               10                627.500000   \n",
       "\n",
       "   Bounce_rates  Exit_rates  Page_values  Special_day Month  \\\n",
       "0          0.20        0.20          0.0          0.0   Feb   \n",
       "1          0.00        0.10          0.0          0.0   Feb   \n",
       "2          0.20        0.20          0.0          0.0   Feb   \n",
       "3          0.05        0.14          0.0          0.0   Feb   \n",
       "4          0.02        0.05          0.0          0.0   Feb   \n",
       "\n",
       "   Operating_systems  Browser  Region  Traffic_type       Visitor_type  \\\n",
       "0                  1        1       1             1  Returning Visitor   \n",
       "1                  2        2       1             2  Returning Visitor   \n",
       "2                  4        1       9             3  Returning Visitor   \n",
       "3                  3        2       2             4  Returning Visitor   \n",
       "4                  3        3       1             4  Returning Visitor   \n",
       "\n",
       "   Weekend  Revenue      Browser_label Os_label  Region_label  \\\n",
       "0    False    False             Chrome  Windows  Norteamérica   \n",
       "1    False    False             Safari    MacOS  Norteamérica   \n",
       "2    False    False             Chrome  Android         Other   \n",
       "3    False    False             Safari    Linux        Europa   \n",
       "4     True    False  Internet Explorer    Linux  Norteamérica   \n",
       "\n",
       "  Traffic_type_label  \n",
       "0    Organic Traffic  \n",
       "1     Direct Traffic  \n",
       "2   Referral Traffic  \n",
       "3       Paid Traffic  \n",
       "4       Paid Traffic  "
      ]
     },
     "execution_count": 40,
     "metadata": {},
     "output_type": "execute_result"
    }
   ],
   "source": [
    "df1.head()"
   ]
  },
  {
   "cell_type": "code",
   "execution_count": 41,
   "metadata": {},
   "outputs": [],
   "source": [
    "coded_columns = ['Browser', 'Region', 'Traffic_type', 'Operating_systems']"
   ]
  },
  {
   "cell_type": "code",
   "execution_count": 42,
   "metadata": {},
   "outputs": [],
   "source": [
    "df_univariate = df1.drop(columns=coded_columns)"
   ]
  },
  {
   "cell_type": "code",
   "execution_count": 43,
   "metadata": {},
   "outputs": [
    {
     "data": {
      "text/html": [
       "<div>\n",
       "<style scoped>\n",
       "    .dataframe tbody tr th:only-of-type {\n",
       "        vertical-align: middle;\n",
       "    }\n",
       "\n",
       "    .dataframe tbody tr th {\n",
       "        vertical-align: top;\n",
       "    }\n",
       "\n",
       "    .dataframe thead th {\n",
       "        text-align: right;\n",
       "    }\n",
       "</style>\n",
       "<table border=\"1\" class=\"dataframe\">\n",
       "  <thead>\n",
       "    <tr style=\"text-align: right;\">\n",
       "      <th></th>\n",
       "      <th>Administrative</th>\n",
       "      <th>Administrative_duration</th>\n",
       "      <th>Informational</th>\n",
       "      <th>Informational_duration</th>\n",
       "      <th>Product_related</th>\n",
       "      <th>Product_related_duration</th>\n",
       "      <th>Bounce_rates</th>\n",
       "      <th>Exit_rates</th>\n",
       "      <th>Page_values</th>\n",
       "      <th>Special_day</th>\n",
       "      <th>Month</th>\n",
       "      <th>Visitor_type</th>\n",
       "      <th>Weekend</th>\n",
       "      <th>Revenue</th>\n",
       "      <th>Browser_label</th>\n",
       "      <th>Os_label</th>\n",
       "      <th>Region_label</th>\n",
       "      <th>Traffic_type_label</th>\n",
       "    </tr>\n",
       "  </thead>\n",
       "  <tbody>\n",
       "    <tr>\n",
       "      <th>0</th>\n",
       "      <td>0</td>\n",
       "      <td>0.0</td>\n",
       "      <td>0</td>\n",
       "      <td>0.0</td>\n",
       "      <td>1</td>\n",
       "      <td>0.000000</td>\n",
       "      <td>0.20</td>\n",
       "      <td>0.20</td>\n",
       "      <td>0.0</td>\n",
       "      <td>0.0</td>\n",
       "      <td>Feb</td>\n",
       "      <td>Returning Visitor</td>\n",
       "      <td>False</td>\n",
       "      <td>False</td>\n",
       "      <td>Chrome</td>\n",
       "      <td>Windows</td>\n",
       "      <td>Norteamérica</td>\n",
       "      <td>Organic Traffic</td>\n",
       "    </tr>\n",
       "    <tr>\n",
       "      <th>1</th>\n",
       "      <td>0</td>\n",
       "      <td>0.0</td>\n",
       "      <td>0</td>\n",
       "      <td>0.0</td>\n",
       "      <td>2</td>\n",
       "      <td>64.000000</td>\n",
       "      <td>0.00</td>\n",
       "      <td>0.10</td>\n",
       "      <td>0.0</td>\n",
       "      <td>0.0</td>\n",
       "      <td>Feb</td>\n",
       "      <td>Returning Visitor</td>\n",
       "      <td>False</td>\n",
       "      <td>False</td>\n",
       "      <td>Safari</td>\n",
       "      <td>MacOS</td>\n",
       "      <td>Norteamérica</td>\n",
       "      <td>Direct Traffic</td>\n",
       "    </tr>\n",
       "    <tr>\n",
       "      <th>2</th>\n",
       "      <td>0</td>\n",
       "      <td>0.0</td>\n",
       "      <td>0</td>\n",
       "      <td>0.0</td>\n",
       "      <td>1</td>\n",
       "      <td>0.000000</td>\n",
       "      <td>0.20</td>\n",
       "      <td>0.20</td>\n",
       "      <td>0.0</td>\n",
       "      <td>0.0</td>\n",
       "      <td>Feb</td>\n",
       "      <td>Returning Visitor</td>\n",
       "      <td>False</td>\n",
       "      <td>False</td>\n",
       "      <td>Chrome</td>\n",
       "      <td>Android</td>\n",
       "      <td>Other</td>\n",
       "      <td>Referral Traffic</td>\n",
       "    </tr>\n",
       "    <tr>\n",
       "      <th>3</th>\n",
       "      <td>0</td>\n",
       "      <td>0.0</td>\n",
       "      <td>0</td>\n",
       "      <td>0.0</td>\n",
       "      <td>2</td>\n",
       "      <td>2.666667</td>\n",
       "      <td>0.05</td>\n",
       "      <td>0.14</td>\n",
       "      <td>0.0</td>\n",
       "      <td>0.0</td>\n",
       "      <td>Feb</td>\n",
       "      <td>Returning Visitor</td>\n",
       "      <td>False</td>\n",
       "      <td>False</td>\n",
       "      <td>Safari</td>\n",
       "      <td>Linux</td>\n",
       "      <td>Europa</td>\n",
       "      <td>Paid Traffic</td>\n",
       "    </tr>\n",
       "    <tr>\n",
       "      <th>4</th>\n",
       "      <td>0</td>\n",
       "      <td>0.0</td>\n",
       "      <td>0</td>\n",
       "      <td>0.0</td>\n",
       "      <td>10</td>\n",
       "      <td>627.500000</td>\n",
       "      <td>0.02</td>\n",
       "      <td>0.05</td>\n",
       "      <td>0.0</td>\n",
       "      <td>0.0</td>\n",
       "      <td>Feb</td>\n",
       "      <td>Returning Visitor</td>\n",
       "      <td>True</td>\n",
       "      <td>False</td>\n",
       "      <td>Internet Explorer</td>\n",
       "      <td>Linux</td>\n",
       "      <td>Norteamérica</td>\n",
       "      <td>Paid Traffic</td>\n",
       "    </tr>\n",
       "  </tbody>\n",
       "</table>\n",
       "</div>"
      ],
      "text/plain": [
       "   Administrative  Administrative_duration  Informational  \\\n",
       "0               0                      0.0              0   \n",
       "1               0                      0.0              0   \n",
       "2               0                      0.0              0   \n",
       "3               0                      0.0              0   \n",
       "4               0                      0.0              0   \n",
       "\n",
       "   Informational_duration  Product_related  Product_related_duration  \\\n",
       "0                     0.0                1                  0.000000   \n",
       "1                     0.0                2                 64.000000   \n",
       "2                     0.0                1                  0.000000   \n",
       "3                     0.0                2                  2.666667   \n",
       "4                     0.0               10                627.500000   \n",
       "\n",
       "   Bounce_rates  Exit_rates  Page_values  Special_day Month  \\\n",
       "0          0.20        0.20          0.0          0.0   Feb   \n",
       "1          0.00        0.10          0.0          0.0   Feb   \n",
       "2          0.20        0.20          0.0          0.0   Feb   \n",
       "3          0.05        0.14          0.0          0.0   Feb   \n",
       "4          0.02        0.05          0.0          0.0   Feb   \n",
       "\n",
       "        Visitor_type  Weekend  Revenue      Browser_label Os_label  \\\n",
       "0  Returning Visitor    False    False             Chrome  Windows   \n",
       "1  Returning Visitor    False    False             Safari    MacOS   \n",
       "2  Returning Visitor    False    False             Chrome  Android   \n",
       "3  Returning Visitor    False    False             Safari    Linux   \n",
       "4  Returning Visitor     True    False  Internet Explorer    Linux   \n",
       "\n",
       "   Region_label Traffic_type_label  \n",
       "0  Norteamérica    Organic Traffic  \n",
       "1  Norteamérica     Direct Traffic  \n",
       "2         Other   Referral Traffic  \n",
       "3        Europa       Paid Traffic  \n",
       "4  Norteamérica       Paid Traffic  "
      ]
     },
     "execution_count": 43,
     "metadata": {},
     "output_type": "execute_result"
    }
   ],
   "source": [
    "df_univariate.head()"
   ]
  },
  {
   "cell_type": "code",
   "execution_count": 44,
   "metadata": {},
   "outputs": [
    {
     "data": {
      "text/plain": [
       "(12205, 18)"
      ]
     },
     "execution_count": 44,
     "metadata": {},
     "output_type": "execute_result"
    }
   ],
   "source": [
    "df_univariate.shape"
   ]
  },
  {
   "cell_type": "code",
   "execution_count": 45,
   "metadata": {},
   "outputs": [],
   "source": [
    "categorical_columns = [\n",
    "    'Month',\n",
    "    'Visitor_type',\n",
    "    'Weekend',\n",
    "    'Revenue',\n",
    "    'Browser_label',\n",
    "    'Os_label',\n",
    "    'Region_label',\n",
    "    'Traffic_type_label'\n",
    "]"
   ]
  },
  {
   "cell_type": "code",
   "execution_count": 46,
   "metadata": {},
   "outputs": [],
   "source": [
    "cat = df_univariate[categorical_columns]"
   ]
  },
  {
   "cell_type": "code",
   "execution_count": 47,
   "metadata": {},
   "outputs": [
    {
     "data": {
      "text/html": [
       "<div>\n",
       "<style scoped>\n",
       "    .dataframe tbody tr th:only-of-type {\n",
       "        vertical-align: middle;\n",
       "    }\n",
       "\n",
       "    .dataframe tbody tr th {\n",
       "        vertical-align: top;\n",
       "    }\n",
       "\n",
       "    .dataframe thead th {\n",
       "        text-align: right;\n",
       "    }\n",
       "</style>\n",
       "<table border=\"1\" class=\"dataframe\">\n",
       "  <thead>\n",
       "    <tr style=\"text-align: right;\">\n",
       "      <th></th>\n",
       "      <th>Month</th>\n",
       "      <th>Visitor_type</th>\n",
       "      <th>Weekend</th>\n",
       "      <th>Revenue</th>\n",
       "      <th>Browser_label</th>\n",
       "      <th>Os_label</th>\n",
       "      <th>Region_label</th>\n",
       "      <th>Traffic_type_label</th>\n",
       "    </tr>\n",
       "  </thead>\n",
       "  <tbody>\n",
       "    <tr>\n",
       "      <th>0</th>\n",
       "      <td>Feb</td>\n",
       "      <td>Returning Visitor</td>\n",
       "      <td>False</td>\n",
       "      <td>False</td>\n",
       "      <td>Chrome</td>\n",
       "      <td>Windows</td>\n",
       "      <td>Norteamérica</td>\n",
       "      <td>Organic Traffic</td>\n",
       "    </tr>\n",
       "    <tr>\n",
       "      <th>1</th>\n",
       "      <td>Feb</td>\n",
       "      <td>Returning Visitor</td>\n",
       "      <td>False</td>\n",
       "      <td>False</td>\n",
       "      <td>Safari</td>\n",
       "      <td>MacOS</td>\n",
       "      <td>Norteamérica</td>\n",
       "      <td>Direct Traffic</td>\n",
       "    </tr>\n",
       "    <tr>\n",
       "      <th>2</th>\n",
       "      <td>Feb</td>\n",
       "      <td>Returning Visitor</td>\n",
       "      <td>False</td>\n",
       "      <td>False</td>\n",
       "      <td>Chrome</td>\n",
       "      <td>Android</td>\n",
       "      <td>Other</td>\n",
       "      <td>Referral Traffic</td>\n",
       "    </tr>\n",
       "    <tr>\n",
       "      <th>3</th>\n",
       "      <td>Feb</td>\n",
       "      <td>Returning Visitor</td>\n",
       "      <td>False</td>\n",
       "      <td>False</td>\n",
       "      <td>Safari</td>\n",
       "      <td>Linux</td>\n",
       "      <td>Europa</td>\n",
       "      <td>Paid Traffic</td>\n",
       "    </tr>\n",
       "    <tr>\n",
       "      <th>4</th>\n",
       "      <td>Feb</td>\n",
       "      <td>Returning Visitor</td>\n",
       "      <td>True</td>\n",
       "      <td>False</td>\n",
       "      <td>Internet Explorer</td>\n",
       "      <td>Linux</td>\n",
       "      <td>Norteamérica</td>\n",
       "      <td>Paid Traffic</td>\n",
       "    </tr>\n",
       "  </tbody>\n",
       "</table>\n",
       "</div>"
      ],
      "text/plain": [
       "  Month       Visitor_type  Weekend  Revenue      Browser_label Os_label  \\\n",
       "0   Feb  Returning Visitor    False    False             Chrome  Windows   \n",
       "1   Feb  Returning Visitor    False    False             Safari    MacOS   \n",
       "2   Feb  Returning Visitor    False    False             Chrome  Android   \n",
       "3   Feb  Returning Visitor    False    False             Safari    Linux   \n",
       "4   Feb  Returning Visitor     True    False  Internet Explorer    Linux   \n",
       "\n",
       "   Region_label Traffic_type_label  \n",
       "0  Norteamérica    Organic Traffic  \n",
       "1  Norteamérica     Direct Traffic  \n",
       "2         Other   Referral Traffic  \n",
       "3        Europa       Paid Traffic  \n",
       "4  Norteamérica       Paid Traffic  "
      ]
     },
     "execution_count": 47,
     "metadata": {},
     "output_type": "execute_result"
    }
   ],
   "source": [
    "cat.head()"
   ]
  },
  {
   "cell_type": "code",
   "execution_count": 48,
   "metadata": {},
   "outputs": [],
   "source": [
    "numerical_columns = [col for col in df_univariate.columns if col not in categorical_columns]"
   ]
  },
  {
   "cell_type": "code",
   "execution_count": 49,
   "metadata": {},
   "outputs": [],
   "source": [
    "num = df_univariate[numerical_columns]\n"
   ]
  },
  {
   "cell_type": "code",
   "execution_count": 50,
   "metadata": {},
   "outputs": [
    {
     "data": {
      "text/html": [
       "<div>\n",
       "<style scoped>\n",
       "    .dataframe tbody tr th:only-of-type {\n",
       "        vertical-align: middle;\n",
       "    }\n",
       "\n",
       "    .dataframe tbody tr th {\n",
       "        vertical-align: top;\n",
       "    }\n",
       "\n",
       "    .dataframe thead th {\n",
       "        text-align: right;\n",
       "    }\n",
       "</style>\n",
       "<table border=\"1\" class=\"dataframe\">\n",
       "  <thead>\n",
       "    <tr style=\"text-align: right;\">\n",
       "      <th></th>\n",
       "      <th>Administrative</th>\n",
       "      <th>Administrative_duration</th>\n",
       "      <th>Informational</th>\n",
       "      <th>Informational_duration</th>\n",
       "      <th>Product_related</th>\n",
       "      <th>Product_related_duration</th>\n",
       "      <th>Bounce_rates</th>\n",
       "      <th>Exit_rates</th>\n",
       "      <th>Page_values</th>\n",
       "      <th>Special_day</th>\n",
       "    </tr>\n",
       "  </thead>\n",
       "  <tbody>\n",
       "    <tr>\n",
       "      <th>0</th>\n",
       "      <td>0</td>\n",
       "      <td>0.0</td>\n",
       "      <td>0</td>\n",
       "      <td>0.0</td>\n",
       "      <td>1</td>\n",
       "      <td>0.000000</td>\n",
       "      <td>0.20</td>\n",
       "      <td>0.20</td>\n",
       "      <td>0.0</td>\n",
       "      <td>0.0</td>\n",
       "    </tr>\n",
       "    <tr>\n",
       "      <th>1</th>\n",
       "      <td>0</td>\n",
       "      <td>0.0</td>\n",
       "      <td>0</td>\n",
       "      <td>0.0</td>\n",
       "      <td>2</td>\n",
       "      <td>64.000000</td>\n",
       "      <td>0.00</td>\n",
       "      <td>0.10</td>\n",
       "      <td>0.0</td>\n",
       "      <td>0.0</td>\n",
       "    </tr>\n",
       "    <tr>\n",
       "      <th>2</th>\n",
       "      <td>0</td>\n",
       "      <td>0.0</td>\n",
       "      <td>0</td>\n",
       "      <td>0.0</td>\n",
       "      <td>1</td>\n",
       "      <td>0.000000</td>\n",
       "      <td>0.20</td>\n",
       "      <td>0.20</td>\n",
       "      <td>0.0</td>\n",
       "      <td>0.0</td>\n",
       "    </tr>\n",
       "    <tr>\n",
       "      <th>3</th>\n",
       "      <td>0</td>\n",
       "      <td>0.0</td>\n",
       "      <td>0</td>\n",
       "      <td>0.0</td>\n",
       "      <td>2</td>\n",
       "      <td>2.666667</td>\n",
       "      <td>0.05</td>\n",
       "      <td>0.14</td>\n",
       "      <td>0.0</td>\n",
       "      <td>0.0</td>\n",
       "    </tr>\n",
       "    <tr>\n",
       "      <th>4</th>\n",
       "      <td>0</td>\n",
       "      <td>0.0</td>\n",
       "      <td>0</td>\n",
       "      <td>0.0</td>\n",
       "      <td>10</td>\n",
       "      <td>627.500000</td>\n",
       "      <td>0.02</td>\n",
       "      <td>0.05</td>\n",
       "      <td>0.0</td>\n",
       "      <td>0.0</td>\n",
       "    </tr>\n",
       "  </tbody>\n",
       "</table>\n",
       "</div>"
      ],
      "text/plain": [
       "   Administrative  Administrative_duration  Informational  \\\n",
       "0               0                      0.0              0   \n",
       "1               0                      0.0              0   \n",
       "2               0                      0.0              0   \n",
       "3               0                      0.0              0   \n",
       "4               0                      0.0              0   \n",
       "\n",
       "   Informational_duration  Product_related  Product_related_duration  \\\n",
       "0                     0.0                1                  0.000000   \n",
       "1                     0.0                2                 64.000000   \n",
       "2                     0.0                1                  0.000000   \n",
       "3                     0.0                2                  2.666667   \n",
       "4                     0.0               10                627.500000   \n",
       "\n",
       "   Bounce_rates  Exit_rates  Page_values  Special_day  \n",
       "0          0.20        0.20          0.0          0.0  \n",
       "1          0.00        0.10          0.0          0.0  \n",
       "2          0.20        0.20          0.0          0.0  \n",
       "3          0.05        0.14          0.0          0.0  \n",
       "4          0.02        0.05          0.0          0.0  "
      ]
     },
     "execution_count": 50,
     "metadata": {},
     "output_type": "execute_result"
    }
   ],
   "source": [
    "num.head()"
   ]
  },
  {
   "cell_type": "markdown",
   "metadata": {},
   "source": [
    "<h1 style=\"color: #00BFFF;\">Univariate Analysis</h1>"
   ]
  },
  {
   "cell_type": "markdown",
   "metadata": {},
   "source": [
    "<h2 style=\"color: #008080;\">Categorical Variables</h2>"
   ]
  },
  {
   "cell_type": "markdown",
   "metadata": {},
   "source": [
    "Frecuency Tables\n",
    "\n",
    "Lo haremos primero del Target. "
   ]
  },
  {
   "cell_type": "code",
   "execution_count": 51,
   "metadata": {},
   "outputs": [
    {
     "data": {
      "text/plain": [
       "Revenue\n",
       "False    10297\n",
       "True      1908\n",
       "Name: count, dtype: int64"
      ]
     },
     "execution_count": 51,
     "metadata": {},
     "output_type": "execute_result"
    }
   ],
   "source": [
    "frequency_table_target = cat.Revenue.value_counts()\n",
    "frequency_table_target"
   ]
  },
  {
   "cell_type": "markdown",
   "metadata": {},
   "source": [
    "Ahora con las demás..."
   ]
  },
  {
   "cell_type": "code",
   "execution_count": 52,
   "metadata": {},
   "outputs": [
    {
     "data": {
      "text/plain": [
       "Month\n",
       "May     3329\n",
       "Nov     2982\n",
       "Mar     1860\n",
       "Dec     1706\n",
       "Oct      549\n",
       "Sep      448\n",
       "Aug      433\n",
       "Jul      432\n",
       "June     285\n",
       "Feb      181\n",
       "Name: count, dtype: int64"
      ]
     },
     "execution_count": 52,
     "metadata": {},
     "output_type": "execute_result"
    }
   ],
   "source": [
    "frequency_table_month= cat.Month.value_counts()\n",
    "frequency_table_month"
   ]
  },
  {
   "cell_type": "code",
   "execution_count": 53,
   "metadata": {},
   "outputs": [
    {
     "data": {
      "text/plain": [
       "Visitor_type\n",
       "Returning Visitor    10431\n",
       "New Visitor           1693\n",
       "Other                   81\n",
       "Name: count, dtype: int64"
      ]
     },
     "execution_count": 53,
     "metadata": {},
     "output_type": "execute_result"
    }
   ],
   "source": [
    "frequency_table_vt = cat.Visitor_type.value_counts()\n",
    "frequency_table_vt"
   ]
  },
  {
   "cell_type": "code",
   "execution_count": 54,
   "metadata": {},
   "outputs": [
    {
     "data": {
      "text/plain": [
       "Weekend\n",
       "False    9346\n",
       "True     2859\n",
       "Name: count, dtype: int64"
      ]
     },
     "execution_count": 54,
     "metadata": {},
     "output_type": "execute_result"
    }
   ],
   "source": [
    "frequency_table_wknd = cat.Weekend.value_counts()\n",
    "frequency_table_wknd"
   ]
  },
  {
   "cell_type": "code",
   "execution_count": null,
   "metadata": {},
   "outputs": [
    {
     "data": {
      "text/plain": [
       "Browser_label\n",
       "Safari               7883\n",
       "Chrome               2427\n",
       "Firefox               731\n",
       "Edge                  465\n",
       "Otros                 420\n",
       "Opera                 174\n",
       "Internet Explorer     105\n",
       "Name: count, dtype: int64"
      ]
     },
     "execution_count": 55,
     "metadata": {},
     "output_type": "execute_result"
    }
   ],
   "source": [
    "frequency_table_bl = cat.Browser_label.value_counts()\n",
    "frequency_table_bl"
   ]
  },
  {
   "cell_type": "code",
   "execution_count": 57,
   "metadata": {},
   "outputs": [
    {
     "data": {
      "text/plain": [
       "Os_label\n",
       "MacOS      6541\n",
       "Windows    2549\n",
       "Linux      2530\n",
       "Android     478\n",
       "Other       101\n",
       "iOS           6\n",
       "Name: count, dtype: int64"
      ]
     },
     "execution_count": 57,
     "metadata": {},
     "output_type": "execute_result"
    }
   ],
   "source": [
    "frequency_table_os = cat.Os_label.value_counts()\n",
    "frequency_table_os"
   ]
  },
  {
   "cell_type": "code",
   "execution_count": 58,
   "metadata": {},
   "outputs": [
    {
     "data": {
      "text/plain": [
       "Region_label\n",
       "Norteamérica     4714\n",
       "Asia             2379\n",
       "Sudamérica       1171\n",
       "Europa           1128\n",
       "Oceanía           801\n",
       "Oriente Medio     758\n",
       "Other             505\n",
       "Antártida         431\n",
       "África            318\n",
       "Name: count, dtype: int64"
      ]
     },
     "execution_count": 58,
     "metadata": {},
     "output_type": "execute_result"
    }
   ],
   "source": [
    "frequency_table_region = cat.Region_label.value_counts()\n",
    "frequency_table_region"
   ]
  },
  {
   "cell_type": "code",
   "execution_count": 61,
   "metadata": {},
   "outputs": [
    {
     "data": {
      "text/plain": [
       "Traffic_type_label\n",
       "Direct Traffic      3911\n",
       "Organic Traffic     2388\n",
       "Other               2124\n",
       "Referral Traffic    2013\n",
       "Paid Traffic        1066\n",
       "Email Marketing      443\n",
       "Social Media         260\n",
       "Name: count, dtype: int64"
      ]
     },
     "execution_count": 61,
     "metadata": {},
     "output_type": "execute_result"
    }
   ],
   "source": [
    "frequency_table_tt = cat.Traffic_type_label.value_counts()\n",
    "frequency_table_tt"
   ]
  },
  {
   "cell_type": "markdown",
   "metadata": {},
   "source": [
    "Proportion Tables \n",
    "\n",
    "Primero con Target y luego con el resto de las categóricas."
   ]
  },
  {
   "cell_type": "code",
   "execution_count": null,
   "metadata": {},
   "outputs": [
    {
     "data": {
      "text/plain": [
       "Revenue\n",
       "False    0.84\n",
       "True     0.16\n",
       "Name: proportion, dtype: float64"
      ]
     },
     "execution_count": 63,
     "metadata": {},
     "output_type": "execute_result"
    }
   ],
   "source": [
    "proportion_table_target = cat.Revenue.value_counts(normalize=True).round(2) \n",
    "proportion_table_target"
   ]
  },
  {
   "cell_type": "code",
   "execution_count": 79,
   "metadata": {},
   "outputs": [
    {
     "data": {
      "text/plain": [
       "Month\n",
       "May     0.27\n",
       "Nov     0.24\n",
       "Mar     0.15\n",
       "Dec     0.14\n",
       "Oct     0.04\n",
       "Sep     0.04\n",
       "Aug     0.04\n",
       "Jul     0.04\n",
       "June    0.02\n",
       "Feb     0.01\n",
       "Name: proportion, dtype: float64"
      ]
     },
     "execution_count": 79,
     "metadata": {},
     "output_type": "execute_result"
    }
   ],
   "source": [
    "proportion_table_month = cat.Month.value_counts(normalize=True).round(2) \n",
    "proportion_table_month"
   ]
  },
  {
   "cell_type": "code",
   "execution_count": null,
   "metadata": {},
   "outputs": [
    {
     "data": {
      "text/plain": [
       "Visitor_type\n",
       "Returning Visitor    0.85\n",
       "New Visitor          0.14\n",
       "Other                0.01\n",
       "Name: proportion, dtype: float64"
      ]
     },
     "execution_count": 64,
     "metadata": {},
     "output_type": "execute_result"
    }
   ],
   "source": [
    "proportion_table_vt = cat.Visitor_type.value_counts(normalize=True).round(2) \n",
    "proportion_table_vt"
   ]
  },
  {
   "cell_type": "code",
   "execution_count": null,
   "metadata": {},
   "outputs": [
    {
     "data": {
      "text/plain": [
       "Weekend\n",
       "False    0.77\n",
       "True     0.23\n",
       "Name: proportion, dtype: float64"
      ]
     },
     "execution_count": 65,
     "metadata": {},
     "output_type": "execute_result"
    }
   ],
   "source": [
    "proportion_table_wknd = cat.Weekend.value_counts(normalize=True).round(2)\n",
    "proportion_table_wknd"
   ]
  },
  {
   "cell_type": "code",
   "execution_count": 66,
   "metadata": {},
   "outputs": [
    {
     "data": {
      "text/plain": [
       "Browser_label\n",
       "Safari               0.65\n",
       "Chrome               0.20\n",
       "Firefox              0.06\n",
       "Edge                 0.04\n",
       "Otros                0.03\n",
       "Opera                0.01\n",
       "Internet Explorer    0.01\n",
       "Name: proportion, dtype: float64"
      ]
     },
     "execution_count": 66,
     "metadata": {},
     "output_type": "execute_result"
    }
   ],
   "source": [
    "proportion_table_bl = cat.Browser_label.value_counts(normalize=True).round(2) ###Lo de en porcentajes\n",
    "proportion_table_bl"
   ]
  },
  {
   "cell_type": "code",
   "execution_count": 67,
   "metadata": {},
   "outputs": [
    {
     "data": {
      "text/plain": [
       "Os_label\n",
       "MacOS      0.54\n",
       "Windows    0.21\n",
       "Linux      0.21\n",
       "Android    0.04\n",
       "Other      0.01\n",
       "iOS        0.00\n",
       "Name: proportion, dtype: float64"
      ]
     },
     "execution_count": 67,
     "metadata": {},
     "output_type": "execute_result"
    }
   ],
   "source": [
    "proportion_table_os = cat.Os_label.value_counts(normalize=True).round(2) ###Lo de en porcentajes\n",
    "proportion_table_os"
   ]
  },
  {
   "cell_type": "code",
   "execution_count": 69,
   "metadata": {},
   "outputs": [
    {
     "data": {
      "text/plain": [
       "Region_label\n",
       "Norteamérica     0.39\n",
       "Asia             0.19\n",
       "Sudamérica       0.10\n",
       "Europa           0.09\n",
       "Oceanía          0.07\n",
       "Oriente Medio    0.06\n",
       "Other            0.04\n",
       "Antártida        0.04\n",
       "África           0.03\n",
       "Name: proportion, dtype: float64"
      ]
     },
     "execution_count": 69,
     "metadata": {},
     "output_type": "execute_result"
    }
   ],
   "source": [
    "proportion_table_region = cat.Region_label.value_counts(normalize=True).round(2) ###Lo de en porcentajes\n",
    "proportion_table_region"
   ]
  },
  {
   "cell_type": "code",
   "execution_count": 70,
   "metadata": {},
   "outputs": [
    {
     "data": {
      "text/plain": [
       "Traffic_type_label\n",
       "Direct Traffic      0.32\n",
       "Organic Traffic     0.20\n",
       "Other               0.17\n",
       "Referral Traffic    0.16\n",
       "Paid Traffic        0.09\n",
       "Email Marketing     0.04\n",
       "Social Media        0.02\n",
       "Name: proportion, dtype: float64"
      ]
     },
     "execution_count": 70,
     "metadata": {},
     "output_type": "execute_result"
    }
   ],
   "source": [
    "proportion_table_tt= cat.Traffic_type_label.value_counts(normalize=True).round(2) ###Lo de en porcentajes\n",
    "proportion_table_tt"
   ]
  },
  {
   "cell_type": "code",
   "execution_count": 71,
   "metadata": {},
   "outputs": [
    {
     "data": {
      "text/html": [
       "<div>\n",
       "<style scoped>\n",
       "    .dataframe tbody tr th:only-of-type {\n",
       "        vertical-align: middle;\n",
       "    }\n",
       "\n",
       "    .dataframe tbody tr th {\n",
       "        vertical-align: top;\n",
       "    }\n",
       "\n",
       "    .dataframe thead th {\n",
       "        text-align: right;\n",
       "    }\n",
       "</style>\n",
       "<table border=\"1\" class=\"dataframe\">\n",
       "  <thead>\n",
       "    <tr style=\"text-align: right;\">\n",
       "      <th></th>\n",
       "      <th>count</th>\n",
       "      <th>proportion</th>\n",
       "    </tr>\n",
       "    <tr>\n",
       "      <th>Revenue</th>\n",
       "      <th></th>\n",
       "      <th></th>\n",
       "    </tr>\n",
       "  </thead>\n",
       "  <tbody>\n",
       "    <tr>\n",
       "      <th>False</th>\n",
       "      <td>10297</td>\n",
       "      <td>0.84</td>\n",
       "    </tr>\n",
       "    <tr>\n",
       "      <th>True</th>\n",
       "      <td>1908</td>\n",
       "      <td>0.16</td>\n",
       "    </tr>\n",
       "  </tbody>\n",
       "</table>\n",
       "</div>"
      ],
      "text/plain": [
       "         count  proportion\n",
       "Revenue                   \n",
       "False    10297        0.84\n",
       "True      1908        0.16"
      ]
     },
     "execution_count": 71,
     "metadata": {},
     "output_type": "execute_result"
    }
   ],
   "source": [
    "freqs_target = pd.concat([frequency_table_target, proportion_table_target], axis=1)\n",
    "freqs_target"
   ]
  },
  {
   "cell_type": "code",
   "execution_count": 74,
   "metadata": {},
   "outputs": [
    {
     "data": {
      "text/html": [
       "<div>\n",
       "<style scoped>\n",
       "    .dataframe tbody tr th:only-of-type {\n",
       "        vertical-align: middle;\n",
       "    }\n",
       "\n",
       "    .dataframe tbody tr th {\n",
       "        vertical-align: top;\n",
       "    }\n",
       "\n",
       "    .dataframe thead th {\n",
       "        text-align: right;\n",
       "    }\n",
       "</style>\n",
       "<table border=\"1\" class=\"dataframe\">\n",
       "  <thead>\n",
       "    <tr style=\"text-align: right;\">\n",
       "      <th></th>\n",
       "      <th>absolute_frequency</th>\n",
       "      <th>relative_frequency</th>\n",
       "    </tr>\n",
       "    <tr>\n",
       "      <th>Revenue</th>\n",
       "      <th></th>\n",
       "      <th></th>\n",
       "    </tr>\n",
       "  </thead>\n",
       "  <tbody>\n",
       "    <tr>\n",
       "      <th>False</th>\n",
       "      <td>10297</td>\n",
       "      <td>0.84</td>\n",
       "    </tr>\n",
       "    <tr>\n",
       "      <th>True</th>\n",
       "      <td>1908</td>\n",
       "      <td>0.16</td>\n",
       "    </tr>\n",
       "  </tbody>\n",
       "</table>\n",
       "</div>"
      ],
      "text/plain": [
       "         absolute_frequency  relative_frequency\n",
       "Revenue                                        \n",
       "False                 10297                0.84\n",
       "True                   1908                0.16"
      ]
     },
     "execution_count": 74,
     "metadata": {},
     "output_type": "execute_result"
    }
   ],
   "source": [
    "freqs_target.columns = ['absolute_frequency', 'relative_frequency']\n",
    "freqs_target"
   ]
  },
  {
   "cell_type": "code",
   "execution_count": 81,
   "metadata": {},
   "outputs": [
    {
     "data": {
      "text/html": [
       "<div>\n",
       "<style scoped>\n",
       "    .dataframe tbody tr th:only-of-type {\n",
       "        vertical-align: middle;\n",
       "    }\n",
       "\n",
       "    .dataframe tbody tr th {\n",
       "        vertical-align: top;\n",
       "    }\n",
       "\n",
       "    .dataframe thead th {\n",
       "        text-align: right;\n",
       "    }\n",
       "</style>\n",
       "<table border=\"1\" class=\"dataframe\">\n",
       "  <thead>\n",
       "    <tr style=\"text-align: right;\">\n",
       "      <th></th>\n",
       "      <th>count</th>\n",
       "      <th>proportion</th>\n",
       "    </tr>\n",
       "    <tr>\n",
       "      <th>Month</th>\n",
       "      <th></th>\n",
       "      <th></th>\n",
       "    </tr>\n",
       "  </thead>\n",
       "  <tbody>\n",
       "    <tr>\n",
       "      <th>May</th>\n",
       "      <td>3329</td>\n",
       "      <td>0.27</td>\n",
       "    </tr>\n",
       "    <tr>\n",
       "      <th>Nov</th>\n",
       "      <td>2982</td>\n",
       "      <td>0.24</td>\n",
       "    </tr>\n",
       "    <tr>\n",
       "      <th>Mar</th>\n",
       "      <td>1860</td>\n",
       "      <td>0.15</td>\n",
       "    </tr>\n",
       "    <tr>\n",
       "      <th>Dec</th>\n",
       "      <td>1706</td>\n",
       "      <td>0.14</td>\n",
       "    </tr>\n",
       "    <tr>\n",
       "      <th>Oct</th>\n",
       "      <td>549</td>\n",
       "      <td>0.04</td>\n",
       "    </tr>\n",
       "    <tr>\n",
       "      <th>Sep</th>\n",
       "      <td>448</td>\n",
       "      <td>0.04</td>\n",
       "    </tr>\n",
       "    <tr>\n",
       "      <th>Aug</th>\n",
       "      <td>433</td>\n",
       "      <td>0.04</td>\n",
       "    </tr>\n",
       "    <tr>\n",
       "      <th>Jul</th>\n",
       "      <td>432</td>\n",
       "      <td>0.04</td>\n",
       "    </tr>\n",
       "    <tr>\n",
       "      <th>June</th>\n",
       "      <td>285</td>\n",
       "      <td>0.02</td>\n",
       "    </tr>\n",
       "    <tr>\n",
       "      <th>Feb</th>\n",
       "      <td>181</td>\n",
       "      <td>0.01</td>\n",
       "    </tr>\n",
       "  </tbody>\n",
       "</table>\n",
       "</div>"
      ],
      "text/plain": [
       "       count  proportion\n",
       "Month                   \n",
       "May     3329        0.27\n",
       "Nov     2982        0.24\n",
       "Mar     1860        0.15\n",
       "Dec     1706        0.14\n",
       "Oct      549        0.04\n",
       "Sep      448        0.04\n",
       "Aug      433        0.04\n",
       "Jul      432        0.04\n",
       "June     285        0.02\n",
       "Feb      181        0.01"
      ]
     },
     "execution_count": 81,
     "metadata": {},
     "output_type": "execute_result"
    }
   ],
   "source": [
    "freqs_month = pd.concat([frequency_table_month, proportion_table_month], axis=1)\n",
    "freqs_month"
   ]
  },
  {
   "cell_type": "code",
   "execution_count": 89,
   "metadata": {},
   "outputs": [
    {
     "data": {
      "text/html": [
       "<div>\n",
       "<style scoped>\n",
       "    .dataframe tbody tr th:only-of-type {\n",
       "        vertical-align: middle;\n",
       "    }\n",
       "\n",
       "    .dataframe tbody tr th {\n",
       "        vertical-align: top;\n",
       "    }\n",
       "\n",
       "    .dataframe thead th {\n",
       "        text-align: right;\n",
       "    }\n",
       "</style>\n",
       "<table border=\"1\" class=\"dataframe\">\n",
       "  <thead>\n",
       "    <tr style=\"text-align: right;\">\n",
       "      <th></th>\n",
       "      <th>absolute_frequency</th>\n",
       "      <th>relative_frequency</th>\n",
       "    </tr>\n",
       "    <tr>\n",
       "      <th>Month</th>\n",
       "      <th></th>\n",
       "      <th></th>\n",
       "    </tr>\n",
       "  </thead>\n",
       "  <tbody>\n",
       "    <tr>\n",
       "      <th>May</th>\n",
       "      <td>3329</td>\n",
       "      <td>0.27</td>\n",
       "    </tr>\n",
       "    <tr>\n",
       "      <th>Nov</th>\n",
       "      <td>2982</td>\n",
       "      <td>0.24</td>\n",
       "    </tr>\n",
       "    <tr>\n",
       "      <th>Mar</th>\n",
       "      <td>1860</td>\n",
       "      <td>0.15</td>\n",
       "    </tr>\n",
       "    <tr>\n",
       "      <th>Dec</th>\n",
       "      <td>1706</td>\n",
       "      <td>0.14</td>\n",
       "    </tr>\n",
       "    <tr>\n",
       "      <th>Oct</th>\n",
       "      <td>549</td>\n",
       "      <td>0.04</td>\n",
       "    </tr>\n",
       "    <tr>\n",
       "      <th>Sep</th>\n",
       "      <td>448</td>\n",
       "      <td>0.04</td>\n",
       "    </tr>\n",
       "    <tr>\n",
       "      <th>Aug</th>\n",
       "      <td>433</td>\n",
       "      <td>0.04</td>\n",
       "    </tr>\n",
       "    <tr>\n",
       "      <th>Jul</th>\n",
       "      <td>432</td>\n",
       "      <td>0.04</td>\n",
       "    </tr>\n",
       "    <tr>\n",
       "      <th>June</th>\n",
       "      <td>285</td>\n",
       "      <td>0.02</td>\n",
       "    </tr>\n",
       "    <tr>\n",
       "      <th>Feb</th>\n",
       "      <td>181</td>\n",
       "      <td>0.01</td>\n",
       "    </tr>\n",
       "  </tbody>\n",
       "</table>\n",
       "</div>"
      ],
      "text/plain": [
       "       absolute_frequency  relative_frequency\n",
       "Month                                        \n",
       "May                  3329                0.27\n",
       "Nov                  2982                0.24\n",
       "Mar                  1860                0.15\n",
       "Dec                  1706                0.14\n",
       "Oct                   549                0.04\n",
       "Sep                   448                0.04\n",
       "Aug                   433                0.04\n",
       "Jul                   432                0.04\n",
       "June                  285                0.02\n",
       "Feb                   181                0.01"
      ]
     },
     "execution_count": 89,
     "metadata": {},
     "output_type": "execute_result"
    }
   ],
   "source": [
    "freqs_month.columns = ['absolute_frequency', 'relative_frequency']\n",
    "freqs_month"
   ]
  },
  {
   "cell_type": "code",
   "execution_count": 82,
   "metadata": {},
   "outputs": [
    {
     "data": {
      "text/html": [
       "<div>\n",
       "<style scoped>\n",
       "    .dataframe tbody tr th:only-of-type {\n",
       "        vertical-align: middle;\n",
       "    }\n",
       "\n",
       "    .dataframe tbody tr th {\n",
       "        vertical-align: top;\n",
       "    }\n",
       "\n",
       "    .dataframe thead th {\n",
       "        text-align: right;\n",
       "    }\n",
       "</style>\n",
       "<table border=\"1\" class=\"dataframe\">\n",
       "  <thead>\n",
       "    <tr style=\"text-align: right;\">\n",
       "      <th></th>\n",
       "      <th>count</th>\n",
       "      <th>proportion</th>\n",
       "    </tr>\n",
       "    <tr>\n",
       "      <th>Visitor_type</th>\n",
       "      <th></th>\n",
       "      <th></th>\n",
       "    </tr>\n",
       "  </thead>\n",
       "  <tbody>\n",
       "    <tr>\n",
       "      <th>Returning Visitor</th>\n",
       "      <td>10431</td>\n",
       "      <td>0.85</td>\n",
       "    </tr>\n",
       "    <tr>\n",
       "      <th>New Visitor</th>\n",
       "      <td>1693</td>\n",
       "      <td>0.14</td>\n",
       "    </tr>\n",
       "    <tr>\n",
       "      <th>Other</th>\n",
       "      <td>81</td>\n",
       "      <td>0.01</td>\n",
       "    </tr>\n",
       "  </tbody>\n",
       "</table>\n",
       "</div>"
      ],
      "text/plain": [
       "                   count  proportion\n",
       "Visitor_type                        \n",
       "Returning Visitor  10431        0.85\n",
       "New Visitor         1693        0.14\n",
       "Other                 81        0.01"
      ]
     },
     "execution_count": 82,
     "metadata": {},
     "output_type": "execute_result"
    }
   ],
   "source": [
    "freqs_vt = pd.concat([frequency_table_vt, proportion_table_vt], axis=1)\n",
    "freqs_vt"
   ]
  },
  {
   "cell_type": "code",
   "execution_count": 90,
   "metadata": {},
   "outputs": [
    {
     "data": {
      "text/html": [
       "<div>\n",
       "<style scoped>\n",
       "    .dataframe tbody tr th:only-of-type {\n",
       "        vertical-align: middle;\n",
       "    }\n",
       "\n",
       "    .dataframe tbody tr th {\n",
       "        vertical-align: top;\n",
       "    }\n",
       "\n",
       "    .dataframe thead th {\n",
       "        text-align: right;\n",
       "    }\n",
       "</style>\n",
       "<table border=\"1\" class=\"dataframe\">\n",
       "  <thead>\n",
       "    <tr style=\"text-align: right;\">\n",
       "      <th></th>\n",
       "      <th>absolute_frequency</th>\n",
       "      <th>relative_frequency</th>\n",
       "    </tr>\n",
       "    <tr>\n",
       "      <th>Visitor_type</th>\n",
       "      <th></th>\n",
       "      <th></th>\n",
       "    </tr>\n",
       "  </thead>\n",
       "  <tbody>\n",
       "    <tr>\n",
       "      <th>Returning Visitor</th>\n",
       "      <td>10431</td>\n",
       "      <td>0.85</td>\n",
       "    </tr>\n",
       "    <tr>\n",
       "      <th>New Visitor</th>\n",
       "      <td>1693</td>\n",
       "      <td>0.14</td>\n",
       "    </tr>\n",
       "    <tr>\n",
       "      <th>Other</th>\n",
       "      <td>81</td>\n",
       "      <td>0.01</td>\n",
       "    </tr>\n",
       "  </tbody>\n",
       "</table>\n",
       "</div>"
      ],
      "text/plain": [
       "                   absolute_frequency  relative_frequency\n",
       "Visitor_type                                             \n",
       "Returning Visitor               10431                0.85\n",
       "New Visitor                      1693                0.14\n",
       "Other                              81                0.01"
      ]
     },
     "execution_count": 90,
     "metadata": {},
     "output_type": "execute_result"
    }
   ],
   "source": [
    "freqs_vt.columns = ['absolute_frequency', 'relative_frequency']\n",
    "freqs_vt"
   ]
  },
  {
   "cell_type": "code",
   "execution_count": 83,
   "metadata": {},
   "outputs": [
    {
     "data": {
      "text/html": [
       "<div>\n",
       "<style scoped>\n",
       "    .dataframe tbody tr th:only-of-type {\n",
       "        vertical-align: middle;\n",
       "    }\n",
       "\n",
       "    .dataframe tbody tr th {\n",
       "        vertical-align: top;\n",
       "    }\n",
       "\n",
       "    .dataframe thead th {\n",
       "        text-align: right;\n",
       "    }\n",
       "</style>\n",
       "<table border=\"1\" class=\"dataframe\">\n",
       "  <thead>\n",
       "    <tr style=\"text-align: right;\">\n",
       "      <th></th>\n",
       "      <th>count</th>\n",
       "      <th>proportion</th>\n",
       "    </tr>\n",
       "    <tr>\n",
       "      <th>Weekend</th>\n",
       "      <th></th>\n",
       "      <th></th>\n",
       "    </tr>\n",
       "  </thead>\n",
       "  <tbody>\n",
       "    <tr>\n",
       "      <th>False</th>\n",
       "      <td>9346</td>\n",
       "      <td>0.77</td>\n",
       "    </tr>\n",
       "    <tr>\n",
       "      <th>True</th>\n",
       "      <td>2859</td>\n",
       "      <td>0.23</td>\n",
       "    </tr>\n",
       "  </tbody>\n",
       "</table>\n",
       "</div>"
      ],
      "text/plain": [
       "         count  proportion\n",
       "Weekend                   \n",
       "False     9346        0.77\n",
       "True      2859        0.23"
      ]
     },
     "execution_count": 83,
     "metadata": {},
     "output_type": "execute_result"
    }
   ],
   "source": [
    "freqs_weekend = pd.concat([frequency_table_wknd, proportion_table_wknd], axis=1)\n",
    "freqs_weekend"
   ]
  },
  {
   "cell_type": "code",
   "execution_count": 91,
   "metadata": {},
   "outputs": [
    {
     "data": {
      "text/html": [
       "<div>\n",
       "<style scoped>\n",
       "    .dataframe tbody tr th:only-of-type {\n",
       "        vertical-align: middle;\n",
       "    }\n",
       "\n",
       "    .dataframe tbody tr th {\n",
       "        vertical-align: top;\n",
       "    }\n",
       "\n",
       "    .dataframe thead th {\n",
       "        text-align: right;\n",
       "    }\n",
       "</style>\n",
       "<table border=\"1\" class=\"dataframe\">\n",
       "  <thead>\n",
       "    <tr style=\"text-align: right;\">\n",
       "      <th></th>\n",
       "      <th>absolute_frequency</th>\n",
       "      <th>relative_frequency</th>\n",
       "    </tr>\n",
       "    <tr>\n",
       "      <th>Weekend</th>\n",
       "      <th></th>\n",
       "      <th></th>\n",
       "    </tr>\n",
       "  </thead>\n",
       "  <tbody>\n",
       "    <tr>\n",
       "      <th>False</th>\n",
       "      <td>9346</td>\n",
       "      <td>0.77</td>\n",
       "    </tr>\n",
       "    <tr>\n",
       "      <th>True</th>\n",
       "      <td>2859</td>\n",
       "      <td>0.23</td>\n",
       "    </tr>\n",
       "  </tbody>\n",
       "</table>\n",
       "</div>"
      ],
      "text/plain": [
       "         absolute_frequency  relative_frequency\n",
       "Weekend                                        \n",
       "False                  9346                0.77\n",
       "True                   2859                0.23"
      ]
     },
     "execution_count": 91,
     "metadata": {},
     "output_type": "execute_result"
    }
   ],
   "source": [
    "freqs_weekend.columns = ['absolute_frequency', 'relative_frequency']\n",
    "freqs_weekend"
   ]
  },
  {
   "cell_type": "code",
   "execution_count": 84,
   "metadata": {},
   "outputs": [
    {
     "data": {
      "text/html": [
       "<div>\n",
       "<style scoped>\n",
       "    .dataframe tbody tr th:only-of-type {\n",
       "        vertical-align: middle;\n",
       "    }\n",
       "\n",
       "    .dataframe tbody tr th {\n",
       "        vertical-align: top;\n",
       "    }\n",
       "\n",
       "    .dataframe thead th {\n",
       "        text-align: right;\n",
       "    }\n",
       "</style>\n",
       "<table border=\"1\" class=\"dataframe\">\n",
       "  <thead>\n",
       "    <tr style=\"text-align: right;\">\n",
       "      <th></th>\n",
       "      <th>count</th>\n",
       "      <th>proportion</th>\n",
       "    </tr>\n",
       "    <tr>\n",
       "      <th>Browser_label</th>\n",
       "      <th></th>\n",
       "      <th></th>\n",
       "    </tr>\n",
       "  </thead>\n",
       "  <tbody>\n",
       "    <tr>\n",
       "      <th>Safari</th>\n",
       "      <td>7883</td>\n",
       "      <td>0.65</td>\n",
       "    </tr>\n",
       "    <tr>\n",
       "      <th>Chrome</th>\n",
       "      <td>2427</td>\n",
       "      <td>0.20</td>\n",
       "    </tr>\n",
       "    <tr>\n",
       "      <th>Firefox</th>\n",
       "      <td>731</td>\n",
       "      <td>0.06</td>\n",
       "    </tr>\n",
       "    <tr>\n",
       "      <th>Edge</th>\n",
       "      <td>465</td>\n",
       "      <td>0.04</td>\n",
       "    </tr>\n",
       "    <tr>\n",
       "      <th>Otros</th>\n",
       "      <td>420</td>\n",
       "      <td>0.03</td>\n",
       "    </tr>\n",
       "    <tr>\n",
       "      <th>Opera</th>\n",
       "      <td>174</td>\n",
       "      <td>0.01</td>\n",
       "    </tr>\n",
       "    <tr>\n",
       "      <th>Internet Explorer</th>\n",
       "      <td>105</td>\n",
       "      <td>0.01</td>\n",
       "    </tr>\n",
       "  </tbody>\n",
       "</table>\n",
       "</div>"
      ],
      "text/plain": [
       "                   count  proportion\n",
       "Browser_label                       \n",
       "Safari              7883        0.65\n",
       "Chrome              2427        0.20\n",
       "Firefox              731        0.06\n",
       "Edge                 465        0.04\n",
       "Otros                420        0.03\n",
       "Opera                174        0.01\n",
       "Internet Explorer    105        0.01"
      ]
     },
     "execution_count": 84,
     "metadata": {},
     "output_type": "execute_result"
    }
   ],
   "source": [
    "freqs_bl = pd.concat([frequency_table_bl, proportion_table_bl], axis=1)\n",
    "freqs_bl"
   ]
  },
  {
   "cell_type": "code",
   "execution_count": 92,
   "metadata": {},
   "outputs": [
    {
     "data": {
      "text/html": [
       "<div>\n",
       "<style scoped>\n",
       "    .dataframe tbody tr th:only-of-type {\n",
       "        vertical-align: middle;\n",
       "    }\n",
       "\n",
       "    .dataframe tbody tr th {\n",
       "        vertical-align: top;\n",
       "    }\n",
       "\n",
       "    .dataframe thead th {\n",
       "        text-align: right;\n",
       "    }\n",
       "</style>\n",
       "<table border=\"1\" class=\"dataframe\">\n",
       "  <thead>\n",
       "    <tr style=\"text-align: right;\">\n",
       "      <th></th>\n",
       "      <th>absolute_frequency</th>\n",
       "      <th>relative_frequency</th>\n",
       "    </tr>\n",
       "    <tr>\n",
       "      <th>Browser_label</th>\n",
       "      <th></th>\n",
       "      <th></th>\n",
       "    </tr>\n",
       "  </thead>\n",
       "  <tbody>\n",
       "    <tr>\n",
       "      <th>Safari</th>\n",
       "      <td>7883</td>\n",
       "      <td>0.65</td>\n",
       "    </tr>\n",
       "    <tr>\n",
       "      <th>Chrome</th>\n",
       "      <td>2427</td>\n",
       "      <td>0.20</td>\n",
       "    </tr>\n",
       "    <tr>\n",
       "      <th>Firefox</th>\n",
       "      <td>731</td>\n",
       "      <td>0.06</td>\n",
       "    </tr>\n",
       "    <tr>\n",
       "      <th>Edge</th>\n",
       "      <td>465</td>\n",
       "      <td>0.04</td>\n",
       "    </tr>\n",
       "    <tr>\n",
       "      <th>Otros</th>\n",
       "      <td>420</td>\n",
       "      <td>0.03</td>\n",
       "    </tr>\n",
       "    <tr>\n",
       "      <th>Opera</th>\n",
       "      <td>174</td>\n",
       "      <td>0.01</td>\n",
       "    </tr>\n",
       "    <tr>\n",
       "      <th>Internet Explorer</th>\n",
       "      <td>105</td>\n",
       "      <td>0.01</td>\n",
       "    </tr>\n",
       "  </tbody>\n",
       "</table>\n",
       "</div>"
      ],
      "text/plain": [
       "                   absolute_frequency  relative_frequency\n",
       "Browser_label                                            \n",
       "Safari                           7883                0.65\n",
       "Chrome                           2427                0.20\n",
       "Firefox                           731                0.06\n",
       "Edge                              465                0.04\n",
       "Otros                             420                0.03\n",
       "Opera                             174                0.01\n",
       "Internet Explorer                 105                0.01"
      ]
     },
     "execution_count": 92,
     "metadata": {},
     "output_type": "execute_result"
    }
   ],
   "source": [
    "freqs_bl.columns = ['absolute_frequency', 'relative_frequency']\n",
    "freqs_bl"
   ]
  },
  {
   "cell_type": "code",
   "execution_count": 85,
   "metadata": {},
   "outputs": [
    {
     "data": {
      "text/html": [
       "<div>\n",
       "<style scoped>\n",
       "    .dataframe tbody tr th:only-of-type {\n",
       "        vertical-align: middle;\n",
       "    }\n",
       "\n",
       "    .dataframe tbody tr th {\n",
       "        vertical-align: top;\n",
       "    }\n",
       "\n",
       "    .dataframe thead th {\n",
       "        text-align: right;\n",
       "    }\n",
       "</style>\n",
       "<table border=\"1\" class=\"dataframe\">\n",
       "  <thead>\n",
       "    <tr style=\"text-align: right;\">\n",
       "      <th></th>\n",
       "      <th>count</th>\n",
       "      <th>proportion</th>\n",
       "    </tr>\n",
       "    <tr>\n",
       "      <th>Os_label</th>\n",
       "      <th></th>\n",
       "      <th></th>\n",
       "    </tr>\n",
       "  </thead>\n",
       "  <tbody>\n",
       "    <tr>\n",
       "      <th>MacOS</th>\n",
       "      <td>6541</td>\n",
       "      <td>0.54</td>\n",
       "    </tr>\n",
       "    <tr>\n",
       "      <th>Windows</th>\n",
       "      <td>2549</td>\n",
       "      <td>0.21</td>\n",
       "    </tr>\n",
       "    <tr>\n",
       "      <th>Linux</th>\n",
       "      <td>2530</td>\n",
       "      <td>0.21</td>\n",
       "    </tr>\n",
       "    <tr>\n",
       "      <th>Android</th>\n",
       "      <td>478</td>\n",
       "      <td>0.04</td>\n",
       "    </tr>\n",
       "    <tr>\n",
       "      <th>Other</th>\n",
       "      <td>101</td>\n",
       "      <td>0.01</td>\n",
       "    </tr>\n",
       "    <tr>\n",
       "      <th>iOS</th>\n",
       "      <td>6</td>\n",
       "      <td>0.00</td>\n",
       "    </tr>\n",
       "  </tbody>\n",
       "</table>\n",
       "</div>"
      ],
      "text/plain": [
       "          count  proportion\n",
       "Os_label                   \n",
       "MacOS      6541        0.54\n",
       "Windows    2549        0.21\n",
       "Linux      2530        0.21\n",
       "Android     478        0.04\n",
       "Other       101        0.01\n",
       "iOS           6        0.00"
      ]
     },
     "execution_count": 85,
     "metadata": {},
     "output_type": "execute_result"
    }
   ],
   "source": [
    "freqs_os = pd.concat([frequency_table_os, proportion_table_os], axis=1)\n",
    "freqs_os"
   ]
  },
  {
   "cell_type": "code",
   "execution_count": 93,
   "metadata": {},
   "outputs": [
    {
     "data": {
      "text/html": [
       "<div>\n",
       "<style scoped>\n",
       "    .dataframe tbody tr th:only-of-type {\n",
       "        vertical-align: middle;\n",
       "    }\n",
       "\n",
       "    .dataframe tbody tr th {\n",
       "        vertical-align: top;\n",
       "    }\n",
       "\n",
       "    .dataframe thead th {\n",
       "        text-align: right;\n",
       "    }\n",
       "</style>\n",
       "<table border=\"1\" class=\"dataframe\">\n",
       "  <thead>\n",
       "    <tr style=\"text-align: right;\">\n",
       "      <th></th>\n",
       "      <th>absolute_frequency</th>\n",
       "      <th>relative_frequency</th>\n",
       "    </tr>\n",
       "    <tr>\n",
       "      <th>Os_label</th>\n",
       "      <th></th>\n",
       "      <th></th>\n",
       "    </tr>\n",
       "  </thead>\n",
       "  <tbody>\n",
       "    <tr>\n",
       "      <th>MacOS</th>\n",
       "      <td>6541</td>\n",
       "      <td>0.54</td>\n",
       "    </tr>\n",
       "    <tr>\n",
       "      <th>Windows</th>\n",
       "      <td>2549</td>\n",
       "      <td>0.21</td>\n",
       "    </tr>\n",
       "    <tr>\n",
       "      <th>Linux</th>\n",
       "      <td>2530</td>\n",
       "      <td>0.21</td>\n",
       "    </tr>\n",
       "    <tr>\n",
       "      <th>Android</th>\n",
       "      <td>478</td>\n",
       "      <td>0.04</td>\n",
       "    </tr>\n",
       "    <tr>\n",
       "      <th>Other</th>\n",
       "      <td>101</td>\n",
       "      <td>0.01</td>\n",
       "    </tr>\n",
       "    <tr>\n",
       "      <th>iOS</th>\n",
       "      <td>6</td>\n",
       "      <td>0.00</td>\n",
       "    </tr>\n",
       "  </tbody>\n",
       "</table>\n",
       "</div>"
      ],
      "text/plain": [
       "          absolute_frequency  relative_frequency\n",
       "Os_label                                        \n",
       "MacOS                   6541                0.54\n",
       "Windows                 2549                0.21\n",
       "Linux                   2530                0.21\n",
       "Android                  478                0.04\n",
       "Other                    101                0.01\n",
       "iOS                        6                0.00"
      ]
     },
     "execution_count": 93,
     "metadata": {},
     "output_type": "execute_result"
    }
   ],
   "source": [
    "freqs_os.columns = ['absolute_frequency', 'relative_frequency']\n",
    "freqs_os"
   ]
  },
  {
   "cell_type": "code",
   "execution_count": 86,
   "metadata": {},
   "outputs": [
    {
     "data": {
      "text/html": [
       "<div>\n",
       "<style scoped>\n",
       "    .dataframe tbody tr th:only-of-type {\n",
       "        vertical-align: middle;\n",
       "    }\n",
       "\n",
       "    .dataframe tbody tr th {\n",
       "        vertical-align: top;\n",
       "    }\n",
       "\n",
       "    .dataframe thead th {\n",
       "        text-align: right;\n",
       "    }\n",
       "</style>\n",
       "<table border=\"1\" class=\"dataframe\">\n",
       "  <thead>\n",
       "    <tr style=\"text-align: right;\">\n",
       "      <th></th>\n",
       "      <th>count</th>\n",
       "      <th>proportion</th>\n",
       "    </tr>\n",
       "    <tr>\n",
       "      <th>Region_label</th>\n",
       "      <th></th>\n",
       "      <th></th>\n",
       "    </tr>\n",
       "  </thead>\n",
       "  <tbody>\n",
       "    <tr>\n",
       "      <th>Norteamérica</th>\n",
       "      <td>4714</td>\n",
       "      <td>0.39</td>\n",
       "    </tr>\n",
       "    <tr>\n",
       "      <th>Asia</th>\n",
       "      <td>2379</td>\n",
       "      <td>0.19</td>\n",
       "    </tr>\n",
       "    <tr>\n",
       "      <th>Sudamérica</th>\n",
       "      <td>1171</td>\n",
       "      <td>0.10</td>\n",
       "    </tr>\n",
       "    <tr>\n",
       "      <th>Europa</th>\n",
       "      <td>1128</td>\n",
       "      <td>0.09</td>\n",
       "    </tr>\n",
       "    <tr>\n",
       "      <th>Oceanía</th>\n",
       "      <td>801</td>\n",
       "      <td>0.07</td>\n",
       "    </tr>\n",
       "    <tr>\n",
       "      <th>Oriente Medio</th>\n",
       "      <td>758</td>\n",
       "      <td>0.06</td>\n",
       "    </tr>\n",
       "    <tr>\n",
       "      <th>Other</th>\n",
       "      <td>505</td>\n",
       "      <td>0.04</td>\n",
       "    </tr>\n",
       "    <tr>\n",
       "      <th>Antártida</th>\n",
       "      <td>431</td>\n",
       "      <td>0.04</td>\n",
       "    </tr>\n",
       "    <tr>\n",
       "      <th>África</th>\n",
       "      <td>318</td>\n",
       "      <td>0.03</td>\n",
       "    </tr>\n",
       "  </tbody>\n",
       "</table>\n",
       "</div>"
      ],
      "text/plain": [
       "               count  proportion\n",
       "Region_label                    \n",
       "Norteamérica    4714        0.39\n",
       "Asia            2379        0.19\n",
       "Sudamérica      1171        0.10\n",
       "Europa          1128        0.09\n",
       "Oceanía          801        0.07\n",
       "Oriente Medio    758        0.06\n",
       "Other            505        0.04\n",
       "Antártida        431        0.04\n",
       "África           318        0.03"
      ]
     },
     "execution_count": 86,
     "metadata": {},
     "output_type": "execute_result"
    }
   ],
   "source": [
    "freqs_region = pd.concat([frequency_table_region, proportion_table_region], axis=1)\n",
    "freqs_region"
   ]
  },
  {
   "cell_type": "code",
   "execution_count": 94,
   "metadata": {},
   "outputs": [
    {
     "data": {
      "text/html": [
       "<div>\n",
       "<style scoped>\n",
       "    .dataframe tbody tr th:only-of-type {\n",
       "        vertical-align: middle;\n",
       "    }\n",
       "\n",
       "    .dataframe tbody tr th {\n",
       "        vertical-align: top;\n",
       "    }\n",
       "\n",
       "    .dataframe thead th {\n",
       "        text-align: right;\n",
       "    }\n",
       "</style>\n",
       "<table border=\"1\" class=\"dataframe\">\n",
       "  <thead>\n",
       "    <tr style=\"text-align: right;\">\n",
       "      <th></th>\n",
       "      <th>absolute_frequency</th>\n",
       "      <th>relative_frequency</th>\n",
       "    </tr>\n",
       "    <tr>\n",
       "      <th>Region_label</th>\n",
       "      <th></th>\n",
       "      <th></th>\n",
       "    </tr>\n",
       "  </thead>\n",
       "  <tbody>\n",
       "    <tr>\n",
       "      <th>Norteamérica</th>\n",
       "      <td>4714</td>\n",
       "      <td>0.39</td>\n",
       "    </tr>\n",
       "    <tr>\n",
       "      <th>Asia</th>\n",
       "      <td>2379</td>\n",
       "      <td>0.19</td>\n",
       "    </tr>\n",
       "    <tr>\n",
       "      <th>Sudamérica</th>\n",
       "      <td>1171</td>\n",
       "      <td>0.10</td>\n",
       "    </tr>\n",
       "    <tr>\n",
       "      <th>Europa</th>\n",
       "      <td>1128</td>\n",
       "      <td>0.09</td>\n",
       "    </tr>\n",
       "    <tr>\n",
       "      <th>Oceanía</th>\n",
       "      <td>801</td>\n",
       "      <td>0.07</td>\n",
       "    </tr>\n",
       "    <tr>\n",
       "      <th>Oriente Medio</th>\n",
       "      <td>758</td>\n",
       "      <td>0.06</td>\n",
       "    </tr>\n",
       "    <tr>\n",
       "      <th>Other</th>\n",
       "      <td>505</td>\n",
       "      <td>0.04</td>\n",
       "    </tr>\n",
       "    <tr>\n",
       "      <th>Antártida</th>\n",
       "      <td>431</td>\n",
       "      <td>0.04</td>\n",
       "    </tr>\n",
       "    <tr>\n",
       "      <th>África</th>\n",
       "      <td>318</td>\n",
       "      <td>0.03</td>\n",
       "    </tr>\n",
       "  </tbody>\n",
       "</table>\n",
       "</div>"
      ],
      "text/plain": [
       "               absolute_frequency  relative_frequency\n",
       "Region_label                                         \n",
       "Norteamérica                 4714                0.39\n",
       "Asia                         2379                0.19\n",
       "Sudamérica                   1171                0.10\n",
       "Europa                       1128                0.09\n",
       "Oceanía                       801                0.07\n",
       "Oriente Medio                 758                0.06\n",
       "Other                         505                0.04\n",
       "Antártida                     431                0.04\n",
       "África                        318                0.03"
      ]
     },
     "execution_count": 94,
     "metadata": {},
     "output_type": "execute_result"
    }
   ],
   "source": [
    "freqs_region.columns = ['absolute_frequency', 'relative_frequency']\n",
    "freqs_region"
   ]
  },
  {
   "cell_type": "code",
   "execution_count": 87,
   "metadata": {},
   "outputs": [
    {
     "data": {
      "text/html": [
       "<div>\n",
       "<style scoped>\n",
       "    .dataframe tbody tr th:only-of-type {\n",
       "        vertical-align: middle;\n",
       "    }\n",
       "\n",
       "    .dataframe tbody tr th {\n",
       "        vertical-align: top;\n",
       "    }\n",
       "\n",
       "    .dataframe thead th {\n",
       "        text-align: right;\n",
       "    }\n",
       "</style>\n",
       "<table border=\"1\" class=\"dataframe\">\n",
       "  <thead>\n",
       "    <tr style=\"text-align: right;\">\n",
       "      <th></th>\n",
       "      <th>count</th>\n",
       "      <th>proportion</th>\n",
       "    </tr>\n",
       "    <tr>\n",
       "      <th>Traffic_type_label</th>\n",
       "      <th></th>\n",
       "      <th></th>\n",
       "    </tr>\n",
       "  </thead>\n",
       "  <tbody>\n",
       "    <tr>\n",
       "      <th>Direct Traffic</th>\n",
       "      <td>3911</td>\n",
       "      <td>0.32</td>\n",
       "    </tr>\n",
       "    <tr>\n",
       "      <th>Organic Traffic</th>\n",
       "      <td>2388</td>\n",
       "      <td>0.20</td>\n",
       "    </tr>\n",
       "    <tr>\n",
       "      <th>Other</th>\n",
       "      <td>2124</td>\n",
       "      <td>0.17</td>\n",
       "    </tr>\n",
       "    <tr>\n",
       "      <th>Referral Traffic</th>\n",
       "      <td>2013</td>\n",
       "      <td>0.16</td>\n",
       "    </tr>\n",
       "    <tr>\n",
       "      <th>Paid Traffic</th>\n",
       "      <td>1066</td>\n",
       "      <td>0.09</td>\n",
       "    </tr>\n",
       "    <tr>\n",
       "      <th>Email Marketing</th>\n",
       "      <td>443</td>\n",
       "      <td>0.04</td>\n",
       "    </tr>\n",
       "    <tr>\n",
       "      <th>Social Media</th>\n",
       "      <td>260</td>\n",
       "      <td>0.02</td>\n",
       "    </tr>\n",
       "  </tbody>\n",
       "</table>\n",
       "</div>"
      ],
      "text/plain": [
       "                    count  proportion\n",
       "Traffic_type_label                   \n",
       "Direct Traffic       3911        0.32\n",
       "Organic Traffic      2388        0.20\n",
       "Other                2124        0.17\n",
       "Referral Traffic     2013        0.16\n",
       "Paid Traffic         1066        0.09\n",
       "Email Marketing       443        0.04\n",
       "Social Media          260        0.02"
      ]
     },
     "execution_count": 87,
     "metadata": {},
     "output_type": "execute_result"
    }
   ],
   "source": [
    "freqs_tt = pd.concat([frequency_table_tt, proportion_table_tt], axis=1)\n",
    "freqs_tt"
   ]
  },
  {
   "cell_type": "code",
   "execution_count": 95,
   "metadata": {},
   "outputs": [
    {
     "data": {
      "text/html": [
       "<div>\n",
       "<style scoped>\n",
       "    .dataframe tbody tr th:only-of-type {\n",
       "        vertical-align: middle;\n",
       "    }\n",
       "\n",
       "    .dataframe tbody tr th {\n",
       "        vertical-align: top;\n",
       "    }\n",
       "\n",
       "    .dataframe thead th {\n",
       "        text-align: right;\n",
       "    }\n",
       "</style>\n",
       "<table border=\"1\" class=\"dataframe\">\n",
       "  <thead>\n",
       "    <tr style=\"text-align: right;\">\n",
       "      <th></th>\n",
       "      <th>absolute_frequency</th>\n",
       "      <th>relative_frequency</th>\n",
       "    </tr>\n",
       "    <tr>\n",
       "      <th>Traffic_type_label</th>\n",
       "      <th></th>\n",
       "      <th></th>\n",
       "    </tr>\n",
       "  </thead>\n",
       "  <tbody>\n",
       "    <tr>\n",
       "      <th>Direct Traffic</th>\n",
       "      <td>3911</td>\n",
       "      <td>0.32</td>\n",
       "    </tr>\n",
       "    <tr>\n",
       "      <th>Organic Traffic</th>\n",
       "      <td>2388</td>\n",
       "      <td>0.20</td>\n",
       "    </tr>\n",
       "    <tr>\n",
       "      <th>Other</th>\n",
       "      <td>2124</td>\n",
       "      <td>0.17</td>\n",
       "    </tr>\n",
       "    <tr>\n",
       "      <th>Referral Traffic</th>\n",
       "      <td>2013</td>\n",
       "      <td>0.16</td>\n",
       "    </tr>\n",
       "    <tr>\n",
       "      <th>Paid Traffic</th>\n",
       "      <td>1066</td>\n",
       "      <td>0.09</td>\n",
       "    </tr>\n",
       "    <tr>\n",
       "      <th>Email Marketing</th>\n",
       "      <td>443</td>\n",
       "      <td>0.04</td>\n",
       "    </tr>\n",
       "    <tr>\n",
       "      <th>Social Media</th>\n",
       "      <td>260</td>\n",
       "      <td>0.02</td>\n",
       "    </tr>\n",
       "  </tbody>\n",
       "</table>\n",
       "</div>"
      ],
      "text/plain": [
       "                    absolute_frequency  relative_frequency\n",
       "Traffic_type_label                                        \n",
       "Direct Traffic                    3911                0.32\n",
       "Organic Traffic                   2388                0.20\n",
       "Other                             2124                0.17\n",
       "Referral Traffic                  2013                0.16\n",
       "Paid Traffic                      1066                0.09\n",
       "Email Marketing                    443                0.04\n",
       "Social Media                       260                0.02"
      ]
     },
     "execution_count": 95,
     "metadata": {},
     "output_type": "execute_result"
    }
   ],
   "source": [
    "freqs_tt.columns = ['absolute_frequency', 'relative_frequency']\n",
    "freqs_tt"
   ]
  },
  {
   "cell_type": "markdown",
   "metadata": {},
   "source": [
    "<h1 style=\"color: #00BFFF;\">Visualizations</h1>"
   ]
  },
  {
   "cell_type": "code",
   "execution_count": 101,
   "metadata": {},
   "outputs": [
    {
     "data": {
      "image/png": "[encoded data removed]",
      "text/plain": [
       "<Figure size 640x480 with 1 Axes>"
      ]
     },
     "metadata": {},
     "output_type": "display_data"
    }
   ],
   "source": [
    "sns.countplot(x='Revenue', data=cat)\n",
    "plt.title('Distribución de la variable categórica')\n",
    "plt.xlabel('Categorías')\n",
    "plt.ylabel('Frecuencia')\n",
    "plt.show()"
   ]
  },
  {
   "cell_type": "markdown",
   "metadata": {},
   "source": [
    "Diferencia en las categorías:\n",
    "\n",
    "Existe una notable diferencia en las frecuencias entre las categorías. Es probable que haya muchas más sesiones sin conversión (valor False) que con conversión (valor True).\n",
    "Clase desbalanceada:\n",
    "\n",
    "Este comportamiento es típico en problemas de predicción de conversiones. La clase de conversión (True) representa un porcentaje mucho menor del total, lo que puede requerir técnicas como el ajuste de pesos en modelos predictivos o el sobremuestreo/submuestreo.\n",
    "Acción recomendada:\n",
    "\n",
    "Este desbalance debe ser considerado en cualquier análisis posterior, especialmente en el modelado, para evitar sesgos hacia la clase mayoritaria."
   ]
  },
  {
   "cell_type": "code",
   "execution_count": null,
   "metadata": {},
   "outputs": [
    {
     "data": {
      "image/png": "[encoded data removed]",
      "text/plain": [
       "<Figure size 640x480 with 1 Axes>"
      ]
     },
     "metadata": {},
     "output_type": "display_data"
    }
   ],
   "source": [
    "sns.countplot(x='Month', data=cat)\n",
    "plt.title('Distribución de la variable categórica')\n",
    "plt.xlabel('Categorías')\n",
    "plt.ylabel('Frecuencia')\n",
    "plt.show()"
   ]
  },
  {
   "cell_type": "markdown",
   "metadata": {},
   "source": [
    "La gráfica muestra la distribución de la variable categórica \"Month\", que indica en qué mes se registraron las sesiones. Aquí están los insights:\n",
    "\n",
    "Meses más frecuentes:\n",
    "\n",
    "Hay meses con una frecuencia significativamente mayor, como Nov (noviembre), lo que sugiere un aumento en las sesiones durante temporadas específicas, probablemente debido a eventos como promociones, Black Friday o el inicio de las compras navideñas.\n",
    "Meses menos frecuentes:\n",
    "\n",
    "Algunos meses, como Feb (febrero) o Sep (septiembre), tienen una menor cantidad de sesiones, lo que puede reflejar temporadas bajas en actividad de compras.\n",
    "Estacionalidad:\n",
    "\n",
    "Esto indica la posible presencia de estacionalidad en el comportamiento de los usuarios, lo cual es clave para planificar estrategias comerciales.\n",
    "Acción recomendada:\n",
    "\n",
    "Si el objetivo es predecir conversiones o analizar el comportamiento del usuario, incluir esta variable en el análisis puede ser relevante debido a la variación en los patrones de uso entre meses."
   ]
  },
  {
   "cell_type": "code",
   "execution_count": 103,
   "metadata": {},
   "outputs": [
    {
     "data": {
      "image/png": "[encoded data removed]",
      "text/plain": [
       "<Figure size 640x480 with 1 Axes>"
      ]
     },
     "metadata": {},
     "output_type": "display_data"
    }
   ],
   "source": [
    "sns.countplot(x='Visitor_type', data=cat)\n",
    "plt.title('Distribución de la variable categórica')\n",
    "plt.xlabel('Categorías')\n",
    "plt.ylabel('Frecuencia')\n",
    "plt.show()"
   ]
  },
  {
   "cell_type": "markdown",
   "metadata": {},
   "source": [
    "La gráfica muestra la distribución de la variable categórica \"Visitor_type\", que clasifica a los visitantes en diferentes tipos según su comportamiento. Aquí están los insights:\n",
    "\n",
    "Tipo de visitante predominante:\n",
    "\n",
    "La categoría \"Returning Visitor\" tiene una frecuencia mucho mayor que las demás, lo que indica que la mayoría de las sesiones corresponden a usuarios que ya han visitado el sitio anteriormente.\n",
    "Visitantes nuevos:\n",
    "\n",
    "La categoría \"New Visitor\" tiene una frecuencia notablemente menor, lo que sugiere que el sitio recibe menos tráfico de usuarios nuevos en comparación con los que regresan.\n",
    "Otros visitantes:\n",
    "\n",
    "La categoría \"Other\" tiene una frecuencia muy baja, posiblemente agrupando casos atípicos o visitantes que no encajan claramente en las otras dos categorías.\n",
    "Acción recomendada:\n",
    "\n",
    "Este tipo de análisis es clave para entender la fidelización del cliente. El predominio de los visitantes recurrentes podría ser un punto positivo para estrategias de retención, pero también destaca la necesidad de analizar cómo atraer a más visitantes nuevos."
   ]
  },
  {
   "cell_type": "code",
   "execution_count": 104,
   "metadata": {},
   "outputs": [
    {
     "data": {
      "image/png": "[encoded data removed]",
      "text/plain": [
       "<Figure size 640x480 with 1 Axes>"
      ]
     },
     "metadata": {},
     "output_type": "display_data"
    }
   ],
   "source": [
    "sns.countplot(x='Weekend', data=cat)\n",
    "plt.title('Distribución de la variable categórica')\n",
    "plt.xlabel('Categorías')\n",
    "plt.ylabel('Frecuencia')\n",
    "plt.show()"
   ]
  },
  {
   "cell_type": "markdown",
   "metadata": {},
   "source": [
    "La gráfica muestra la distribución de la variable categórica \"Weekend\", que indica si una sesión ocurrió durante un fin de semana. Aquí están los insights:\n",
    "\n",
    "Frecuencia predominante:\n",
    "\n",
    "La mayoría de las sesiones no ocurrieron durante un fin de semana (False). Esto sugiere que el tráfico en el sitio es mayor en días laborales.\n",
    "Sesiones en fines de semana:\n",
    "\n",
    "Aunque la categoría True (fin de semana) tiene una frecuencia menor, sigue siendo un segmento importante que podría reflejar el comportamiento de usuarios que navegan en su tiempo libre.\n",
    "Implicaciones comerciales:\n",
    "\n",
    "Esto puede ser relevante para campañas publicitarias y promociones. Las estrategias dirigidas a días laborales podrían tener un mayor impacto en el tráfico y conversiones.\n",
    "Acción recomendada:\n",
    "\n",
    "Profundizar en cómo varía el comportamiento de los usuarios entre días laborales y fines de semana, especialmente en términos de conversión y duración de las sesiones.\n",
    "Si deseas analizar esta variable en combinación con otras, como el tipo de visitante o el mes, podemos explorar más relaciones. 😊 ​"
   ]
  },
  {
   "cell_type": "code",
   "execution_count": 105,
   "metadata": {},
   "outputs": [
    {
     "data": {
      "image/png": "[encoded data removed]",
      "text/plain": [
       "<Figure size 640x480 with 1 Axes>"
      ]
     },
     "metadata": {},
     "output_type": "display_data"
    }
   ],
   "source": [
    "sns.countplot(x='Browser_label', data=cat)\n",
    "plt.title('Distribución de la variable categórica')\n",
    "plt.xlabel('Categorías')\n",
    "plt.ylabel('Frecuencia')\n",
    "plt.show()"
   ]
  },
  {
   "cell_type": "markdown",
   "metadata": {},
   "source": [
    "La gráfica muestra la distribución de la variable categórica \"Browser_label\", que identifica los navegadores usados por los visitantes del sitio. Aquí están los insights:\n",
    "\n",
    "Navegador más utilizado:\n",
    "\n",
    "Un navegador en particular (como Chrome) tiene una frecuencia mucho mayor en comparación con otros. Esto indica que una gran proporción de usuarios acceden al sitio utilizando este navegador.\n",
    "Diversidad de navegadores:\n",
    "\n",
    "Aunque hay navegadores dominantes, la gráfica muestra una variedad significativa de opciones utilizadas por los usuarios, como Safari, Firefox, etc.\n",
    "Navegadores menos utilizados:\n",
    "\n",
    "Algunos navegadores tienen una frecuencia muy baja, lo que podría reflejar un grupo pequeño de usuarios o navegadores menos comunes.\n",
    "Acción recomendada:\n",
    "\n",
    "Este análisis es útil para garantizar que el sitio esté optimizado para los navegadores más utilizados, minimizando problemas de compatibilidad que puedan afectar a un segmento grande de usuarios."
   ]
  },
  {
   "cell_type": "code",
   "execution_count": 106,
   "metadata": {},
   "outputs": [
    {
     "data": {
      "image/png": "[encoded data removed]",
      "text/plain": [
       "<Figure size 640x480 with 1 Axes>"
      ]
     },
     "metadata": {},
     "output_type": "display_data"
    }
   ],
   "source": [
    "sns.countplot(x='Os_label', data=cat)\n",
    "plt.title('Distribución de la variable categórica')\n",
    "plt.xlabel('Categorías')\n",
    "plt.ylabel('Frecuencia')\n",
    "plt.show()"
   ]
  },
  {
   "cell_type": "markdown",
   "metadata": {},
   "source": [
    "La gráfica muestra la distribución de la variable categórica \"Os_label\", que identifica los sistemas operativos usados por los visitantes. Aquí están los insights:\n",
    "\n",
    "Sistema operativo más utilizado:\n",
    "\n",
    "Un sistema operativo específico (como Windows) domina claramente la distribución. Esto sugiere que la mayoría de los usuarios acceden al sitio desde dispositivos con este sistema.\n",
    "Diversidad de sistemas operativos:\n",
    "\n",
    "Aunque hay un sistema operativo predominante, otros, como MacOS y Android, también tienen una participación significativa, indicando una audiencia diversa en términos de dispositivos.\n",
    "Sistemas menos comunes:\n",
    "\n",
    "Algunos sistemas operativos, como Linux, tienen una frecuencia menor, pero pueden representar nichos específicos de usuarios.\n",
    "Optimización:\n",
    "\n",
    "Es importante asegurarse de que el sitio sea compatible y esté optimizado para los sistemas operativos más utilizados, con especial atención a la experiencia de usuario en sistemas con menor participación."
   ]
  },
  {
   "cell_type": "code",
   "execution_count": 107,
   "metadata": {},
   "outputs": [
    {
     "data": {
      "image/png": "[encoded data removed]",
      "text/plain": [
       "<Figure size 640x480 with 1 Axes>"
      ]
     },
     "metadata": {},
     "output_type": "display_data"
    }
   ],
   "source": [
    "sns.countplot(x='Region_label', data=cat)\n",
    "plt.title('Distribución de la variable categórica')\n",
    "plt.xlabel('Categorías')\n",
    "plt.ylabel('Frecuencia')\n",
    "plt.show()"
   ]
  },
  {
   "cell_type": "markdown",
   "metadata": {},
   "source": [
    "La gráfica muestra la distribución de la variable categórica \"Region_label\", que representa las regiones desde las cuales los usuarios acceden al sitio. Aquí están los insights:\n",
    "\n",
    "Región predominante:\n",
    "\n",
    "Una región específica (como Norteamérica) tiene la mayor frecuencia, indicando que una gran proporción de los usuarios del sitio provienen de esa área geográfica.\n",
    "Diversidad geográfica:\n",
    "\n",
    "Aunque hay una región dominante, también hay participación de otras regiones, como Europa o Asia, lo que indica una audiencia global.\n",
    "Regiones menos representadas:\n",
    "\n",
    "Algunas regiones tienen una frecuencia baja, lo que podría ser un reflejo de una menor penetración del mercado o una falta de enfoque en esas áreas.\n",
    "Acción recomendada:\n",
    "\n",
    "Es importante analizar si las estrategias de marketing o contenido están alineadas con las regiones predominantes y evaluar oportunidades para crecer en regiones con menor representación.\n",
    "Exploración adicional:\n",
    "\n",
    "Analizar cómo varía el comportamiento del usuario (como la conversión) por región podría proporcionar insights sobre diferencias culturales o de mercado."
   ]
  },
  {
   "cell_type": "code",
   "execution_count": 110,
   "metadata": {},
   "outputs": [
    {
     "data": {
      "image/png": "[encoded data removed]",
      "text/plain": [
       "<Figure size 640x480 with 1 Axes>"
      ]
     },
     "metadata": {},
     "output_type": "display_data"
    }
   ],
   "source": [
    "sns.countplot(x='Traffic_type_label', data=cat)\n",
    "plt.title('Distribución de la variable categórica')\n",
    "plt.xlabel('Categorías')\n",
    "plt.ylabel('Frecuencia')\n",
    "\n",
    "# Rotar las etiquetas del eje X\n",
    "plt.xticks(rotation=45)  # Cambia el ángulo según necesites (45, 90, etc.)\n",
    "plt.show()"
   ]
  },
  {
   "cell_type": "markdown",
   "metadata": {},
   "source": [
    "Tráfico predominante:\n",
    "\n",
    "Un tipo de tráfico, como \"Direct Traffic\" o \"Organic Traffic\", parece ser la fuente principal de visitas. Esto podría indicar que los usuarios llegan al sitio principalmente a través de búsquedas orgánicas o acceso directo.\n",
    "Fuentes de tráfico menos comunes:\n",
    "\n",
    "Algunos tipos de tráfico, como \"Referral Traffic\" o \"Paid Traffic\", tienen frecuencias significativamente más bajas, lo que podría sugerir menos enfoque o inversión en esas fuentes.\n",
    "Implicaciones estratégicas:\n",
    "\n",
    "La dependencia de un tipo de tráfico en particular podría ser una oportunidad o un riesgo. Por ejemplo, depender demasiado de tráfico orgánico podría ser problemático si cambian las reglas del motor de búsqueda.\n",
    "Acción recomendada:\n",
    "\n",
    "Es importante diversificar las fuentes de tráfico para reducir riesgos. Analizar la efectividad de las campañas pagadas o las estrategias de referidos podría ser un buen paso para equilibrar estas categorías.\n"
   ]
  },
  {
   "cell_type": "markdown",
   "metadata": {},
   "source": [
    "##### Pie charts"
   ]
  },
  {
   "cell_type": "code",
   "execution_count": 111,
   "metadata": {},
   "outputs": [
    {
     "data": {
      "image/png": "[encoded data removed]",
      "text/plain": [
       "<Figure size 640x480 with 1 Axes>"
      ]
     },
     "metadata": {},
     "output_type": "display_data"
    }
   ],
   "source": [
    "frequency_table_target.plot.pie(autopct='%1.0f%%' ,startangle=90, colors=sns.color_palette('Set2'))\n",
    "plt.show()"
   ]
  },
  {
   "cell_type": "markdown",
   "metadata": {},
   "source": [
    "La gráfica de pastel muestra la distribución porcentual de la variable objetivo \"Revenue\", que indica si hubo una conversión (compra) o no. Aquí están los insights:\n",
    "\n",
    "Clase mayoritaria:\n",
    "\n",
    "La mayor parte de las sesiones están asociadas con la categoría \"No\" (sin conversión), lo cual es típico en datasets relacionados con comercio electrónico.\n",
    "Clase minoritaria:\n",
    "\n",
    "Un porcentaje significativamente menor está asociado con la categoría \"Sí\" (con conversión), reflejando que las compras ocurren en una proporción mucho menor.\n",
    "Desbalance de clases:\n",
    "\n",
    "Este desequilibrio puede ser un desafío en el modelado, ya que los algoritmos de aprendizaje automático pueden favorecer la clase mayoritaria si no se toman medidas adecuadas."
   ]
  },
  {
   "cell_type": "code",
   "execution_count": 113,
   "metadata": {},
   "outputs": [
    {
     "data": {
      "image/png": "[encoded data removed]",
      "text/plain": [
       "<Figure size 640x480 with 1 Axes>"
      ]
     },
     "metadata": {},
     "output_type": "display_data"
    }
   ],
   "source": [
    "frequency_table_month.plot.pie(autopct='%1.0f%%' ,startangle=90, colors=sns.color_palette('Set2'))\n",
    "plt.show()"
   ]
  },
  {
   "cell_type": "markdown",
   "metadata": {},
   "source": [
    "La gráfica de pastel muestra la distribución porcentual de las sesiones por mes en la variable \"Month\". Aquí están los insights:\n",
    "\n",
    "Mes dominante:\n",
    "\n",
    "Noviembre tiene la mayor proporción de sesiones, lo que sugiere una actividad elevada en este mes, probablemente debido a eventos como el Black Friday y el inicio de las compras navideñas.\n",
    "Meses con menor actividad:\n",
    "\n",
    "Algunos meses, como febrero o septiembre, tienen una proporción mucho menor de sesiones, reflejando períodos de baja actividad de los usuarios.\n",
    "Estacionalidad:\n",
    "\n",
    "La distribución resalta un claro patrón estacional, donde ciertos meses son consistentemente más activos que otros."
   ]
  },
  {
   "cell_type": "code",
   "execution_count": 114,
   "metadata": {},
   "outputs": [
    {
     "data": {
      "image/png": "[encoded data removed]",
      "text/plain": [
       "<Figure size 640x480 with 1 Axes>"
      ]
     },
     "metadata": {},
     "output_type": "display_data"
    }
   ],
   "source": [
    "frequency_table_vt.plot.pie(autopct='%1.0f%%' ,startangle=90, colors=sns.color_palette('Set2'))\n",
    "plt.show()"
   ]
  },
  {
   "cell_type": "code",
   "execution_count": 115,
   "metadata": {},
   "outputs": [
    {
     "data": {
      "image/png": "[encoded data removed]",
      "text/plain": [
       "<Figure size 640x480 with 1 Axes>"
      ]
     },
     "metadata": {},
     "output_type": "display_data"
    }
   ],
   "source": [
    "frequency_table_wknd.plot.pie(autopct='%1.0f%%' ,startangle=90, colors=sns.color_palette('Set2'))\n",
    "plt.show()"
   ]
  },
  {
   "cell_type": "code",
   "execution_count": 116,
   "metadata": {},
   "outputs": [
    {
     "data": {
      "image/png": "[encoded data removed]",
      "text/plain": [
       "<Figure size 640x480 with 1 Axes>"
      ]
     },
     "metadata": {},
     "output_type": "display_data"
    }
   ],
   "source": [
    "frequency_table_bl.plot.pie(autopct='%1.0f%%' ,startangle=90, colors=sns.color_palette('Set2'))\n",
    "plt.show()"
   ]
  },
  {
   "cell_type": "code",
   "execution_count": 135,
   "metadata": {},
   "outputs": [
    {
     "data": {
      "image/png": "[encoded data removed]",
      "text/plain": [
       "<Figure size 640x480 with 1 Axes>"
      ]
     },
     "metadata": {},
     "output_type": "display_data"
    }
   ],
   "source": [
    "frequency_table_os.plot.pie(autopct='%1.0f%%' ,startangle= 90, colors=sns.color_palette('Set2'))\n",
    "plt.show()"
   ]
  },
  {
   "cell_type": "code",
   "execution_count": 126,
   "metadata": {},
   "outputs": [
    {
     "data": {
      "image/png": "[encoded data removed]",
      "text/plain": [
       "<Figure size 640x480 with 1 Axes>"
      ]
     },
     "metadata": {},
     "output_type": "display_data"
    }
   ],
   "source": [
    "frequency_table_region.plot.pie(autopct='%1.0f%%' ,startangle=90, colors=sns.color_palette('Set2'))\n",
    "plt.show()\n"
   ]
  },
  {
   "cell_type": "code",
   "execution_count": 130,
   "metadata": {},
   "outputs": [
    {
     "data": {
      "image/png": "[encoded data removed]",
      "text/plain": [
       "<Figure size 640x480 with 1 Axes>"
      ]
     },
     "metadata": {},
     "output_type": "display_data"
    }
   ],
   "source": [
    "frequency_table_tt.plot.pie(autopct='%1.0f%%' ,startangle=90, colors=sns.color_palette('Set2'))\n",
    "plt.show()\n",
    "\n"
   ]
  },
  {
   "cell_type": "markdown",
   "metadata": {},
   "source": [
    "<h2 style=\"color: #008080;\">Numerical Variables</h2>"
   ]
  },
  {
   "cell_type": "code",
   "execution_count": 136,
   "metadata": {},
   "outputs": [
    {
     "data": {
      "text/html": [
       "<div>\n",
       "<style scoped>\n",
       "    .dataframe tbody tr th:only-of-type {\n",
       "        vertical-align: middle;\n",
       "    }\n",
       "\n",
       "    .dataframe tbody tr th {\n",
       "        vertical-align: top;\n",
       "    }\n",
       "\n",
       "    .dataframe thead th {\n",
       "        text-align: right;\n",
       "    }\n",
       "</style>\n",
       "<table border=\"1\" class=\"dataframe\">\n",
       "  <thead>\n",
       "    <tr style=\"text-align: right;\">\n",
       "      <th></th>\n",
       "      <th>count</th>\n",
       "      <th>mean</th>\n",
       "      <th>std</th>\n",
       "      <th>min</th>\n",
       "      <th>25%</th>\n",
       "      <th>50%</th>\n",
       "      <th>75%</th>\n",
       "      <th>max</th>\n",
       "    </tr>\n",
       "  </thead>\n",
       "  <tbody>\n",
       "    <tr>\n",
       "      <th>Administrative</th>\n",
       "      <td>12205.0</td>\n",
       "      <td>2.0</td>\n",
       "      <td>3.0</td>\n",
       "      <td>0.0</td>\n",
       "      <td>0.0</td>\n",
       "      <td>1.0</td>\n",
       "      <td>4.0</td>\n",
       "      <td>27.0</td>\n",
       "    </tr>\n",
       "    <tr>\n",
       "      <th>Administrative_duration</th>\n",
       "      <td>12205.0</td>\n",
       "      <td>82.0</td>\n",
       "      <td>177.0</td>\n",
       "      <td>0.0</td>\n",
       "      <td>0.0</td>\n",
       "      <td>9.0</td>\n",
       "      <td>95.0</td>\n",
       "      <td>3399.0</td>\n",
       "    </tr>\n",
       "    <tr>\n",
       "      <th>Informational</th>\n",
       "      <td>12205.0</td>\n",
       "      <td>1.0</td>\n",
       "      <td>1.0</td>\n",
       "      <td>0.0</td>\n",
       "      <td>0.0</td>\n",
       "      <td>0.0</td>\n",
       "      <td>0.0</td>\n",
       "      <td>24.0</td>\n",
       "    </tr>\n",
       "    <tr>\n",
       "      <th>Informational_duration</th>\n",
       "      <td>12205.0</td>\n",
       "      <td>35.0</td>\n",
       "      <td>141.0</td>\n",
       "      <td>0.0</td>\n",
       "      <td>0.0</td>\n",
       "      <td>0.0</td>\n",
       "      <td>0.0</td>\n",
       "      <td>2549.0</td>\n",
       "    </tr>\n",
       "    <tr>\n",
       "      <th>Product_related</th>\n",
       "      <td>12205.0</td>\n",
       "      <td>32.0</td>\n",
       "      <td>45.0</td>\n",
       "      <td>0.0</td>\n",
       "      <td>8.0</td>\n",
       "      <td>18.0</td>\n",
       "      <td>38.0</td>\n",
       "      <td>705.0</td>\n",
       "    </tr>\n",
       "    <tr>\n",
       "      <th>Product_related_duration</th>\n",
       "      <td>12205.0</td>\n",
       "      <td>1207.0</td>\n",
       "      <td>1920.0</td>\n",
       "      <td>0.0</td>\n",
       "      <td>193.0</td>\n",
       "      <td>609.0</td>\n",
       "      <td>1477.0</td>\n",
       "      <td>63974.0</td>\n",
       "    </tr>\n",
       "    <tr>\n",
       "      <th>Bounce_rates</th>\n",
       "      <td>12205.0</td>\n",
       "      <td>0.0</td>\n",
       "      <td>0.0</td>\n",
       "      <td>0.0</td>\n",
       "      <td>0.0</td>\n",
       "      <td>0.0</td>\n",
       "      <td>0.0</td>\n",
       "      <td>0.0</td>\n",
       "    </tr>\n",
       "    <tr>\n",
       "      <th>Exit_rates</th>\n",
       "      <td>12205.0</td>\n",
       "      <td>0.0</td>\n",
       "      <td>0.0</td>\n",
       "      <td>0.0</td>\n",
       "      <td>0.0</td>\n",
       "      <td>0.0</td>\n",
       "      <td>0.0</td>\n",
       "      <td>0.0</td>\n",
       "    </tr>\n",
       "    <tr>\n",
       "      <th>Page_values</th>\n",
       "      <td>12205.0</td>\n",
       "      <td>6.0</td>\n",
       "      <td>19.0</td>\n",
       "      <td>0.0</td>\n",
       "      <td>0.0</td>\n",
       "      <td>0.0</td>\n",
       "      <td>0.0</td>\n",
       "      <td>362.0</td>\n",
       "    </tr>\n",
       "    <tr>\n",
       "      <th>Special_day</th>\n",
       "      <td>12205.0</td>\n",
       "      <td>0.0</td>\n",
       "      <td>0.0</td>\n",
       "      <td>0.0</td>\n",
       "      <td>0.0</td>\n",
       "      <td>0.0</td>\n",
       "      <td>0.0</td>\n",
       "      <td>1.0</td>\n",
       "    </tr>\n",
       "  </tbody>\n",
       "</table>\n",
       "</div>"
      ],
      "text/plain": [
       "                            count    mean     std  min    25%    50%     75%  \\\n",
       "Administrative            12205.0     2.0     3.0  0.0    0.0    1.0     4.0   \n",
       "Administrative_duration   12205.0    82.0   177.0  0.0    0.0    9.0    95.0   \n",
       "Informational             12205.0     1.0     1.0  0.0    0.0    0.0     0.0   \n",
       "Informational_duration    12205.0    35.0   141.0  0.0    0.0    0.0     0.0   \n",
       "Product_related           12205.0    32.0    45.0  0.0    8.0   18.0    38.0   \n",
       "Product_related_duration  12205.0  1207.0  1920.0  0.0  193.0  609.0  1477.0   \n",
       "Bounce_rates              12205.0     0.0     0.0  0.0    0.0    0.0     0.0   \n",
       "Exit_rates                12205.0     0.0     0.0  0.0    0.0    0.0     0.0   \n",
       "Page_values               12205.0     6.0    19.0  0.0    0.0    0.0     0.0   \n",
       "Special_day               12205.0     0.0     0.0  0.0    0.0    0.0     0.0   \n",
       "\n",
       "                              max  \n",
       "Administrative               27.0  \n",
       "Administrative_duration    3399.0  \n",
       "Informational                24.0  \n",
       "Informational_duration     2549.0  \n",
       "Product_related             705.0  \n",
       "Product_related_duration  63974.0  \n",
       "Bounce_rates                  0.0  \n",
       "Exit_rates                    0.0  \n",
       "Page_values                 362.0  \n",
       "Special_day                   1.0  "
      ]
     },
     "execution_count": 136,
     "metadata": {},
     "output_type": "execute_result"
    }
   ],
   "source": [
    "num.describe().T.round(0)"
   ]
  },
  {
   "cell_type": "code",
   "execution_count": 137,
   "metadata": {},
   "outputs": [
    {
     "name": "stdout",
     "output_type": "stream",
     "text": [
      "<class 'pandas.core.frame.DataFrame'>\n",
      "RangeIndex: 12205 entries, 0 to 12204\n",
      "Data columns (total 10 columns):\n",
      " #   Column                    Non-Null Count  Dtype  \n",
      "---  ------                    --------------  -----  \n",
      " 0   Administrative            12205 non-null  int64  \n",
      " 1   Administrative_duration   12205 non-null  float64\n",
      " 2   Informational             12205 non-null  int64  \n",
      " 3   Informational_duration    12205 non-null  float64\n",
      " 4   Product_related           12205 non-null  int64  \n",
      " 5   Product_related_duration  12205 non-null  float64\n",
      " 6   Bounce_rates              12205 non-null  float64\n",
      " 7   Exit_rates                12205 non-null  float64\n",
      " 8   Page_values               12205 non-null  float64\n",
      " 9   Special_day               12205 non-null  float64\n",
      "dtypes: float64(7), int64(3)\n",
      "memory usage: 953.6 KB\n"
     ]
    }
   ],
   "source": [
    "num.info()"
   ]
  },
  {
   "cell_type": "markdown",
   "metadata": {},
   "source": [
    "**Measures of Centrality**"
   ]
  },
  {
   "cell_type": "code",
   "execution_count": 138,
   "metadata": {},
   "outputs": [],
   "source": [
    "def calculate_centrality_dispersion(df):\n",
    "    \"\"\"\n",
    "    Calcula las medidas de centralidad y dispersión para todas las columnas numéricas de un DataFrame.\n",
    "    \"\"\"\n",
    "    stats = {}\n",
    "    \n",
    "   \n",
    "    for col in df.select_dtypes(include=[np.number]).columns:\n",
    "        col_data = df[col]\n",
    "        \n",
    "        \n",
    "        mean = col_data.mean()\n",
    "        median = col_data.median()\n",
    "        mode = col_data.mode().iloc[0] if not col_data.mode().empty else None\n",
    "        \n",
    "        \n",
    "        var = col_data.var()\n",
    "        std = col_data.std()\n",
    "        min_val = col_data.min()\n",
    "        max_val = col_data.max()\n",
    "        range_val = max_val - min_val\n",
    "        q1 = col_data.quantile(0.25)\n",
    "        q3 = col_data.quantile(0.75)\n",
    "        iqr = q3 - q1  # Rango intercuartílico\n",
    "\n",
    "        \n",
    "        stats[col] = {\n",
    "            'Mean': mean,\n",
    "            'Median': median,\n",
    "            'Mode': mode,\n",
    "            'Variance': var,\n",
    "            'Standard Deviation': std,\n",
    "            'Min': min_val,\n",
    "            'Max': max_val,\n",
    "            'Range': range_val,\n",
    "            'Q1': q1,\n",
    "            'Q3': q3,\n",
    "            'IQR': iqr\n",
    "        }\n",
    "    \n",
    "    \n",
    "    stats_df = pd.DataFrame(stats).T\n",
    "    return stats_df"
   ]
  },
  {
   "cell_type": "code",
   "execution_count": 139,
   "metadata": {},
   "outputs": [
    {
     "data": {
      "text/html": [
       "<div>\n",
       "<style scoped>\n",
       "    .dataframe tbody tr th:only-of-type {\n",
       "        vertical-align: middle;\n",
       "    }\n",
       "\n",
       "    .dataframe tbody tr th {\n",
       "        vertical-align: top;\n",
       "    }\n",
       "\n",
       "    .dataframe thead th {\n",
       "        text-align: right;\n",
       "    }\n",
       "</style>\n",
       "<table border=\"1\" class=\"dataframe\">\n",
       "  <thead>\n",
       "    <tr style=\"text-align: right;\">\n",
       "      <th></th>\n",
       "      <th>Mean</th>\n",
       "      <th>Median</th>\n",
       "      <th>Mode</th>\n",
       "      <th>Variance</th>\n",
       "      <th>Standard Deviation</th>\n",
       "      <th>Min</th>\n",
       "      <th>Max</th>\n",
       "      <th>Range</th>\n",
       "      <th>Q1</th>\n",
       "      <th>Q3</th>\n",
       "      <th>IQR</th>\n",
       "    </tr>\n",
       "  </thead>\n",
       "  <tbody>\n",
       "    <tr>\n",
       "      <th>Administrative</th>\n",
       "      <td>2.338878</td>\n",
       "      <td>1.000000</td>\n",
       "      <td>0.0</td>\n",
       "      <td>1.109181e+01</td>\n",
       "      <td>3.330436</td>\n",
       "      <td>0.0</td>\n",
       "      <td>27.000000</td>\n",
       "      <td>27.000000</td>\n",
       "      <td>0.000000</td>\n",
       "      <td>4.000000</td>\n",
       "      <td>4.000000</td>\n",
       "    </tr>\n",
       "    <tr>\n",
       "      <th>Administrative_duration</th>\n",
       "      <td>81.646331</td>\n",
       "      <td>9.000000</td>\n",
       "      <td>0.0</td>\n",
       "      <td>3.150336e+04</td>\n",
       "      <td>177.491845</td>\n",
       "      <td>0.0</td>\n",
       "      <td>3398.750000</td>\n",
       "      <td>3398.750000</td>\n",
       "      <td>0.000000</td>\n",
       "      <td>94.700000</td>\n",
       "      <td>94.700000</td>\n",
       "    </tr>\n",
       "    <tr>\n",
       "      <th>Informational</th>\n",
       "      <td>0.508726</td>\n",
       "      <td>0.000000</td>\n",
       "      <td>0.0</td>\n",
       "      <td>1.627198e+00</td>\n",
       "      <td>1.275617</td>\n",
       "      <td>0.0</td>\n",
       "      <td>24.000000</td>\n",
       "      <td>24.000000</td>\n",
       "      <td>0.000000</td>\n",
       "      <td>0.000000</td>\n",
       "      <td>0.000000</td>\n",
       "    </tr>\n",
       "    <tr>\n",
       "      <th>Informational_duration</th>\n",
       "      <td>34.825454</td>\n",
       "      <td>0.000000</td>\n",
       "      <td>0.0</td>\n",
       "      <td>2.000098e+04</td>\n",
       "      <td>141.424807</td>\n",
       "      <td>0.0</td>\n",
       "      <td>2549.375000</td>\n",
       "      <td>2549.375000</td>\n",
       "      <td>0.000000</td>\n",
       "      <td>0.000000</td>\n",
       "      <td>0.000000</td>\n",
       "    </tr>\n",
       "    <tr>\n",
       "      <th>Product_related</th>\n",
       "      <td>32.045637</td>\n",
       "      <td>18.000000</td>\n",
       "      <td>1.0</td>\n",
       "      <td>1.988594e+03</td>\n",
       "      <td>44.593649</td>\n",
       "      <td>0.0</td>\n",
       "      <td>705.000000</td>\n",
       "      <td>705.000000</td>\n",
       "      <td>8.000000</td>\n",
       "      <td>38.000000</td>\n",
       "      <td>30.000000</td>\n",
       "    </tr>\n",
       "    <tr>\n",
       "      <th>Product_related_duration</th>\n",
       "      <td>1206.982457</td>\n",
       "      <td>608.942857</td>\n",
       "      <td>0.0</td>\n",
       "      <td>3.684870e+06</td>\n",
       "      <td>1919.601400</td>\n",
       "      <td>0.0</td>\n",
       "      <td>63973.522230</td>\n",
       "      <td>63973.522230</td>\n",
       "      <td>193.000000</td>\n",
       "      <td>1477.154762</td>\n",
       "      <td>1284.154762</td>\n",
       "    </tr>\n",
       "    <tr>\n",
       "      <th>Bounce_rates</th>\n",
       "      <td>0.020370</td>\n",
       "      <td>0.002899</td>\n",
       "      <td>0.0</td>\n",
       "      <td>2.048055e-03</td>\n",
       "      <td>0.045255</td>\n",
       "      <td>0.0</td>\n",
       "      <td>0.200000</td>\n",
       "      <td>0.200000</td>\n",
       "      <td>0.000000</td>\n",
       "      <td>0.016667</td>\n",
       "      <td>0.016667</td>\n",
       "    </tr>\n",
       "    <tr>\n",
       "      <th>Exit_rates</th>\n",
       "      <td>0.041466</td>\n",
       "      <td>0.025000</td>\n",
       "      <td>0.2</td>\n",
       "      <td>2.130995e-03</td>\n",
       "      <td>0.046163</td>\n",
       "      <td>0.0</td>\n",
       "      <td>0.200000</td>\n",
       "      <td>0.200000</td>\n",
       "      <td>0.014231</td>\n",
       "      <td>0.048529</td>\n",
       "      <td>0.034298</td>\n",
       "    </tr>\n",
       "    <tr>\n",
       "      <th>Page_values</th>\n",
       "      <td>5.949574</td>\n",
       "      <td>0.000000</td>\n",
       "      <td>0.0</td>\n",
       "      <td>3.479594e+02</td>\n",
       "      <td>18.653671</td>\n",
       "      <td>0.0</td>\n",
       "      <td>361.763742</td>\n",
       "      <td>361.763742</td>\n",
       "      <td>0.000000</td>\n",
       "      <td>0.000000</td>\n",
       "      <td>0.000000</td>\n",
       "    </tr>\n",
       "    <tr>\n",
       "      <th>Special_day</th>\n",
       "      <td>0.061942</td>\n",
       "      <td>0.000000</td>\n",
       "      <td>0.0</td>\n",
       "      <td>3.986660e-02</td>\n",
       "      <td>0.199666</td>\n",
       "      <td>0.0</td>\n",
       "      <td>1.000000</td>\n",
       "      <td>1.000000</td>\n",
       "      <td>0.000000</td>\n",
       "      <td>0.000000</td>\n",
       "      <td>0.000000</td>\n",
       "    </tr>\n",
       "  </tbody>\n",
       "</table>\n",
       "</div>"
      ],
      "text/plain": [
       "                                 Mean      Median  Mode      Variance  \\\n",
       "Administrative               2.338878    1.000000   0.0  1.109181e+01   \n",
       "Administrative_duration     81.646331    9.000000   0.0  3.150336e+04   \n",
       "Informational                0.508726    0.000000   0.0  1.627198e+00   \n",
       "Informational_duration      34.825454    0.000000   0.0  2.000098e+04   \n",
       "Product_related             32.045637   18.000000   1.0  1.988594e+03   \n",
       "Product_related_duration  1206.982457  608.942857   0.0  3.684870e+06   \n",
       "Bounce_rates                 0.020370    0.002899   0.0  2.048055e-03   \n",
       "Exit_rates                   0.041466    0.025000   0.2  2.130995e-03   \n",
       "Page_values                  5.949574    0.000000   0.0  3.479594e+02   \n",
       "Special_day                  0.061942    0.000000   0.0  3.986660e-02   \n",
       "\n",
       "                          Standard Deviation  Min           Max         Range  \\\n",
       "Administrative                      3.330436  0.0     27.000000     27.000000   \n",
       "Administrative_duration           177.491845  0.0   3398.750000   3398.750000   \n",
       "Informational                       1.275617  0.0     24.000000     24.000000   \n",
       "Informational_duration            141.424807  0.0   2549.375000   2549.375000   \n",
       "Product_related                    44.593649  0.0    705.000000    705.000000   \n",
       "Product_related_duration         1919.601400  0.0  63973.522230  63973.522230   \n",
       "Bounce_rates                        0.045255  0.0      0.200000      0.200000   \n",
       "Exit_rates                          0.046163  0.0      0.200000      0.200000   \n",
       "Page_values                        18.653671  0.0    361.763742    361.763742   \n",
       "Special_day                         0.199666  0.0      1.000000      1.000000   \n",
       "\n",
       "                                  Q1           Q3          IQR  \n",
       "Administrative              0.000000     4.000000     4.000000  \n",
       "Administrative_duration     0.000000    94.700000    94.700000  \n",
       "Informational               0.000000     0.000000     0.000000  \n",
       "Informational_duration      0.000000     0.000000     0.000000  \n",
       "Product_related             8.000000    38.000000    30.000000  \n",
       "Product_related_duration  193.000000  1477.154762  1284.154762  \n",
       "Bounce_rates                0.000000     0.016667     0.016667  \n",
       "Exit_rates                  0.014231     0.048529     0.034298  \n",
       "Page_values                 0.000000     0.000000     0.000000  \n",
       "Special_day                 0.000000     0.000000     0.000000  "
      ]
     },
     "execution_count": 139,
     "metadata": {},
     "output_type": "execute_result"
    }
   ],
   "source": [
    "centrality_dispersion_stats = calculate_centrality_dispersion(num)\n",
    "centrality_dispersion_stats"
   ]
  },
  {
   "cell_type": "code",
   "execution_count": 140,
   "metadata": {},
   "outputs": [],
   "source": [
    "def calculate_kurtosis_skew(df):\n",
    "   \n",
    "    stats = {}\n",
    "    \n",
    "    for col in df.select_dtypes(include=[np.number]).columns:\n",
    "        col_data = df[col].dropna()  # Evitar valores nulos\n",
    "        \n",
    "        kurt = kurtosis(col_data)\n",
    "        skewness = skew(col_data)\n",
    "        \n",
    "        stats[col] = {\n",
    "            'Kurtosis': kurt,\n",
    "            'Skewness': skewness\n",
    "        }\n",
    "    \n",
    "    stats_df = pd.DataFrame(stats).T\n",
    "    return stats_df"
   ]
  },
  {
   "cell_type": "code",
   "execution_count": 141,
   "metadata": {},
   "outputs": [
    {
     "data": {
      "text/html": [
       "<div>\n",
       "<style scoped>\n",
       "    .dataframe tbody tr th:only-of-type {\n",
       "        vertical-align: middle;\n",
       "    }\n",
       "\n",
       "    .dataframe tbody tr th {\n",
       "        vertical-align: top;\n",
       "    }\n",
       "\n",
       "    .dataframe thead th {\n",
       "        text-align: right;\n",
       "    }\n",
       "</style>\n",
       "<table border=\"1\" class=\"dataframe\">\n",
       "  <thead>\n",
       "    <tr style=\"text-align: right;\">\n",
       "      <th></th>\n",
       "      <th>Kurtosis</th>\n",
       "      <th>Skewness</th>\n",
       "    </tr>\n",
       "  </thead>\n",
       "  <tbody>\n",
       "    <tr>\n",
       "      <th>Administrative</th>\n",
       "      <td>4.638964</td>\n",
       "      <td>1.946884</td>\n",
       "    </tr>\n",
       "    <tr>\n",
       "      <th>Administrative_duration</th>\n",
       "      <td>50.115759</td>\n",
       "      <td>5.591464</td>\n",
       "    </tr>\n",
       "    <tr>\n",
       "      <th>Informational</th>\n",
       "      <td>26.647862</td>\n",
       "      <td>4.013679</td>\n",
       "    </tr>\n",
       "    <tr>\n",
       "      <th>Informational_duration</th>\n",
       "      <td>75.502803</td>\n",
       "      <td>7.539364</td>\n",
       "    </tr>\n",
       "    <tr>\n",
       "      <th>Product_related</th>\n",
       "      <td>31.059492</td>\n",
       "      <td>4.332887</td>\n",
       "    </tr>\n",
       "    <tr>\n",
       "      <th>Product_related_duration</th>\n",
       "      <td>136.624972</td>\n",
       "      <td>7.252270</td>\n",
       "    </tr>\n",
       "    <tr>\n",
       "      <th>Bounce_rates</th>\n",
       "      <td>9.329673</td>\n",
       "      <td>3.162036</td>\n",
       "    </tr>\n",
       "    <tr>\n",
       "      <th>Exit_rates</th>\n",
       "      <td>4.639677</td>\n",
       "      <td>2.234370</td>\n",
       "    </tr>\n",
       "    <tr>\n",
       "      <th>Page_values</th>\n",
       "      <td>64.970911</td>\n",
       "      <td>6.350202</td>\n",
       "    </tr>\n",
       "    <tr>\n",
       "      <th>Special_day</th>\n",
       "      <td>9.793141</td>\n",
       "      <td>3.285498</td>\n",
       "    </tr>\n",
       "  </tbody>\n",
       "</table>\n",
       "</div>"
      ],
      "text/plain": [
       "                            Kurtosis  Skewness\n",
       "Administrative              4.638964  1.946884\n",
       "Administrative_duration    50.115759  5.591464\n",
       "Informational              26.647862  4.013679\n",
       "Informational_duration     75.502803  7.539364\n",
       "Product_related            31.059492  4.332887\n",
       "Product_related_duration  136.624972  7.252270\n",
       "Bounce_rates                9.329673  3.162036\n",
       "Exit_rates                  4.639677  2.234370\n",
       "Page_values                64.970911  6.350202\n",
       "Special_day                 9.793141  3.285498"
      ]
     },
     "execution_count": 141,
     "metadata": {},
     "output_type": "execute_result"
    }
   ],
   "source": [
    "calculate_kurtosis_skew(num)"
   ]
  },
  {
   "cell_type": "code",
   "execution_count": 142,
   "metadata": {},
   "outputs": [
    {
     "data": {
      "image/png": "[encoded data removed]",
      "text/plain": [
       "<Figure size 2000x1600 with 25 Axes>"
      ]
     },
     "metadata": {},
     "output_type": "display_data"
    }
   ],
   "source": [
    "color = '#FF6347'\n",
    "\n",
    "# grid size\n",
    "nrows, ncols = 5, 5  # adjust for your number of features\n",
    "\n",
    "fig, axes = plt.subplots(nrows=nrows, ncols=ncols, figsize=(20, 16))\n",
    "\n",
    "axes = axes.flatten()\n",
    "\n",
    "# Plot each numerical feature\n",
    "for i, ax in enumerate(axes):\n",
    "    if i >= len(num.columns):\n",
    "        ax.set_visible(False)  # hide unesed plots\n",
    "        continue\n",
    "    ax.hist(num.iloc[:, i], bins=30, color=color, edgecolor='black')\n",
    "    ax.set_title(num.columns[i])\n",
    "\n",
    "plt.tight_layout()\n",
    "plt.show()"
   ]
  },
  {
   "cell_type": "markdown",
   "metadata": {},
   "source": [
    "a gráfica muestra distribuciones de cada variable numérica en el dataset. A continuación, algunos insights generales de las variables:\n",
    "\n",
    "Simetría y asimetría:\n",
    "\n",
    "Algunas variables muestran distribuciones simétricas (como una campana), mientras que otras tienen una fuerte asimetría (colas largas a la derecha o izquierda), indicando la presencia de valores extremos o distribuciones sesgadas.\n",
    "Variables dispersas:\n",
    "\n",
    "Algunas distribuciones tienen una mayoría de valores cercanos a cero, mientras que otras están más dispersas, sugiriendo diferentes escalas o patrones de datos.\n",
    "Presencia de valores atípicos:\n",
    "\n",
    "En variables con colas largas o concentraciones inusuales de valores, es posible que existan valores atípicos (outliers) que podrían necesitar tratamiento según el análisis posterior.\n"
   ]
  },
  {
   "cell_type": "markdown",
   "metadata": {},
   "source": [
    "<h2 style=\"color: #FF6347;\">Checking Outliers</h2>"
   ]
  },
  {
   "cell_type": "code",
   "execution_count": 146,
   "metadata": {},
   "outputs": [
    {
     "data": {
      "image/png": "[encoded data removed]",
      "text/plain": [
       "<Figure size 2000x1600 with 20 Axes>"
      ]
     },
     "metadata": {},
     "output_type": "display_data"
    }
   ],
   "source": [
    "color = '#FF8C00'\n",
    "\n",
    "# grid size\n",
    "nrows, ncols = 5, 4 \n",
    "\n",
    "fig, axes = plt.subplots(nrows=nrows, ncols=ncols, figsize=(20, 16))\n",
    "\n",
    "axes = axes.flatten()\n",
    "\n",
    "for i, ax in enumerate(axes):\n",
    "    if i >= len(num.columns):\n",
    "        ax.set_visible(False)\n",
    "        continue\n",
    "    ax.boxplot(num.iloc[:, i].dropna(), vert=False, patch_artist=True, \n",
    "               boxprops=dict(facecolor=color, color='black'), \n",
    "               medianprops=dict(color='yellow'), whiskerprops=dict(color='black'), \n",
    "               capprops=dict(color='black'), flierprops=dict(marker='o', color='red', markersize=5))\n",
    "    ax.set_title(num.columns[i], fontsize=10)\n",
    "    ax.tick_params(axis='x', labelsize=8)\n",
    "\n",
    "plt.tight_layout()\n",
    "plt.show()"
   ]
  },
  {
   "cell_type": "markdown",
   "metadata": {},
   "source": [
    "Los diagramas de caja para cada variable numérica muestran la dispersión, mediana y posibles valores atípicos. Aquí están los insights generales:\n",
    "\n",
    "Rango intercuartílico (IQR):\n",
    "\n",
    "Las cajas representan la dispersión central de los datos. Una caja más amplia indica mayor variabilidad en los valores centrales.\n",
    "Mediana:\n",
    "\n",
    "La línea amarilla dentro de cada caja indica la mediana. Para algunas variables, la mediana está sesgada hacia uno de los lados, lo que puede sugerir distribuciones asimétricas.\n",
    "Valores atípicos:\n",
    "\n",
    "Los puntos rojos representan valores fuera del rango esperado, identificados como outliers. Variables como \"Product_related_duration\" o \"Administrative_duration\" parecen tener una gran cantidad de valores extremos.\n",
    "Distribución uniforme vs. concentrada:\n",
    "\n",
    "Algunas variables tienen una dispersión más uniforme dentro de los bigotes (líneas que extienden la caja), mientras que otras están más concentradas.\n"
   ]
  },
  {
   "cell_type": "markdown",
   "metadata": {},
   "source": [
    "### Esto dejalo para cuando estes a punto de hacer el modelado. para que se actualice el df correcto que ahora estas utilizando el df con labels para poder hacer tu analisis unnivariado. "
   ]
  },
  {
   "cell_type": "markdown",
   "metadata": {},
   "source": [
    "def tukeys_test_outliers(data):\n",
    "    Q1 = data.quantile(0.25)\n",
    "    Q3 = data.quantile(0.75)\n",
    "    IQR = Q3 - Q1\n",
    "    \n",
    "    # Define bounds for the outliers\n",
    "    lower_bound = Q1 - 1.5 * IQR\n",
    "    upper_bound = Q3 + 1.5* IQR\n",
    "    \n",
    "    # Identify the outliers\n",
    "    outliers = data[(data < lower_bound) | (data > upper_bound)]\n",
    "    \n",
    "    return outliers"
   ]
  },
  {
   "cell_type": "markdown",
   "metadata": {},
   "source": [
    "tukeys_test_outliers(df_univariate.Administrative_duration).sort_values(ascending=False).head(2).index"
   ]
  },
  {
   "cell_type": "markdown",
   "metadata": {},
   "source": [
    "num.Administrative_duration.loc[7983]"
   ]
  },
  {
   "cell_type": "markdown",
   "metadata": {},
   "source": [
    "df=df3.drop(index_outlier_sqft_living)"
   ]
  },
  {
   "cell_type": "code",
   "execution_count": 167,
   "metadata": {},
   "outputs": [
    {
     "data": {
      "text/html": [
       "<div>\n",
       "<style scoped>\n",
       "    .dataframe tbody tr th:only-of-type {\n",
       "        vertical-align: middle;\n",
       "    }\n",
       "\n",
       "    .dataframe tbody tr th {\n",
       "        vertical-align: top;\n",
       "    }\n",
       "\n",
       "    .dataframe thead th {\n",
       "        text-align: right;\n",
       "    }\n",
       "</style>\n",
       "<table border=\"1\" class=\"dataframe\">\n",
       "  <thead>\n",
       "    <tr style=\"text-align: right;\">\n",
       "      <th></th>\n",
       "      <th>Administrative</th>\n",
       "      <th>Administrative_duration</th>\n",
       "      <th>Informational</th>\n",
       "      <th>Informational_duration</th>\n",
       "      <th>Product_related</th>\n",
       "      <th>Product_related_duration</th>\n",
       "      <th>Bounce_rates</th>\n",
       "      <th>Exit_rates</th>\n",
       "      <th>Page_values</th>\n",
       "      <th>Special_day</th>\n",
       "      <th>Month</th>\n",
       "      <th>Visitor_type</th>\n",
       "      <th>Weekend</th>\n",
       "      <th>Revenue</th>\n",
       "      <th>Browser_label</th>\n",
       "      <th>Os_label</th>\n",
       "      <th>Region_label</th>\n",
       "      <th>Traffic_type_label</th>\n",
       "    </tr>\n",
       "  </thead>\n",
       "  <tbody>\n",
       "    <tr>\n",
       "      <th>0</th>\n",
       "      <td>0</td>\n",
       "      <td>0.0</td>\n",
       "      <td>0</td>\n",
       "      <td>0.0</td>\n",
       "      <td>1</td>\n",
       "      <td>0.000000</td>\n",
       "      <td>0.20</td>\n",
       "      <td>0.20</td>\n",
       "      <td>0.0</td>\n",
       "      <td>0.0</td>\n",
       "      <td>Feb</td>\n",
       "      <td>Returning Visitor</td>\n",
       "      <td>False</td>\n",
       "      <td>False</td>\n",
       "      <td>Chrome</td>\n",
       "      <td>Windows</td>\n",
       "      <td>Norteamérica</td>\n",
       "      <td>Organic Traffic</td>\n",
       "    </tr>\n",
       "    <tr>\n",
       "      <th>1</th>\n",
       "      <td>0</td>\n",
       "      <td>0.0</td>\n",
       "      <td>0</td>\n",
       "      <td>0.0</td>\n",
       "      <td>2</td>\n",
       "      <td>64.000000</td>\n",
       "      <td>0.00</td>\n",
       "      <td>0.10</td>\n",
       "      <td>0.0</td>\n",
       "      <td>0.0</td>\n",
       "      <td>Feb</td>\n",
       "      <td>Returning Visitor</td>\n",
       "      <td>False</td>\n",
       "      <td>False</td>\n",
       "      <td>Safari</td>\n",
       "      <td>MacOS</td>\n",
       "      <td>Norteamérica</td>\n",
       "      <td>Direct Traffic</td>\n",
       "    </tr>\n",
       "    <tr>\n",
       "      <th>2</th>\n",
       "      <td>0</td>\n",
       "      <td>0.0</td>\n",
       "      <td>0</td>\n",
       "      <td>0.0</td>\n",
       "      <td>1</td>\n",
       "      <td>0.000000</td>\n",
       "      <td>0.20</td>\n",
       "      <td>0.20</td>\n",
       "      <td>0.0</td>\n",
       "      <td>0.0</td>\n",
       "      <td>Feb</td>\n",
       "      <td>Returning Visitor</td>\n",
       "      <td>False</td>\n",
       "      <td>False</td>\n",
       "      <td>Chrome</td>\n",
       "      <td>Android</td>\n",
       "      <td>Other</td>\n",
       "      <td>Referral Traffic</td>\n",
       "    </tr>\n",
       "    <tr>\n",
       "      <th>3</th>\n",
       "      <td>0</td>\n",
       "      <td>0.0</td>\n",
       "      <td>0</td>\n",
       "      <td>0.0</td>\n",
       "      <td>2</td>\n",
       "      <td>2.666667</td>\n",
       "      <td>0.05</td>\n",
       "      <td>0.14</td>\n",
       "      <td>0.0</td>\n",
       "      <td>0.0</td>\n",
       "      <td>Feb</td>\n",
       "      <td>Returning Visitor</td>\n",
       "      <td>False</td>\n",
       "      <td>False</td>\n",
       "      <td>Safari</td>\n",
       "      <td>Linux</td>\n",
       "      <td>Europa</td>\n",
       "      <td>Paid Traffic</td>\n",
       "    </tr>\n",
       "    <tr>\n",
       "      <th>4</th>\n",
       "      <td>0</td>\n",
       "      <td>0.0</td>\n",
       "      <td>0</td>\n",
       "      <td>0.0</td>\n",
       "      <td>10</td>\n",
       "      <td>627.500000</td>\n",
       "      <td>0.02</td>\n",
       "      <td>0.05</td>\n",
       "      <td>0.0</td>\n",
       "      <td>0.0</td>\n",
       "      <td>Feb</td>\n",
       "      <td>Returning Visitor</td>\n",
       "      <td>True</td>\n",
       "      <td>False</td>\n",
       "      <td>Internet Explorer</td>\n",
       "      <td>Linux</td>\n",
       "      <td>Norteamérica</td>\n",
       "      <td>Paid Traffic</td>\n",
       "    </tr>\n",
       "  </tbody>\n",
       "</table>\n",
       "</div>"
      ],
      "text/plain": [
       "   Administrative  Administrative_duration  Informational  \\\n",
       "0               0                      0.0              0   \n",
       "1               0                      0.0              0   \n",
       "2               0                      0.0              0   \n",
       "3               0                      0.0              0   \n",
       "4               0                      0.0              0   \n",
       "\n",
       "   Informational_duration  Product_related  Product_related_duration  \\\n",
       "0                     0.0                1                  0.000000   \n",
       "1                     0.0                2                 64.000000   \n",
       "2                     0.0                1                  0.000000   \n",
       "3                     0.0                2                  2.666667   \n",
       "4                     0.0               10                627.500000   \n",
       "\n",
       "   Bounce_rates  Exit_rates  Page_values  Special_day Month  \\\n",
       "0          0.20        0.20          0.0          0.0   Feb   \n",
       "1          0.00        0.10          0.0          0.0   Feb   \n",
       "2          0.20        0.20          0.0          0.0   Feb   \n",
       "3          0.05        0.14          0.0          0.0   Feb   \n",
       "4          0.02        0.05          0.0          0.0   Feb   \n",
       "\n",
       "        Visitor_type  Weekend  Revenue      Browser_label Os_label  \\\n",
       "0  Returning Visitor    False    False             Chrome  Windows   \n",
       "1  Returning Visitor    False    False             Safari    MacOS   \n",
       "2  Returning Visitor    False    False             Chrome  Android   \n",
       "3  Returning Visitor    False    False             Safari    Linux   \n",
       "4  Returning Visitor     True    False  Internet Explorer    Linux   \n",
       "\n",
       "   Region_label Traffic_type_label  \n",
       "0  Norteamérica    Organic Traffic  \n",
       "1  Norteamérica     Direct Traffic  \n",
       "2         Other   Referral Traffic  \n",
       "3        Europa       Paid Traffic  \n",
       "4  Norteamérica       Paid Traffic  "
      ]
     },
     "execution_count": 167,
     "metadata": {},
     "output_type": "execute_result"
    }
   ],
   "source": [
    "df_univariate.head()"
   ]
  },
  {
   "cell_type": "code",
   "execution_count": 168,
   "metadata": {},
   "outputs": [],
   "source": [
    "df_univariate.to_csv('online_shoppers_EDA', index=False)"
   ]
  }
 ],
 "metadata": {
  "kernelspec": {
   "display_name": "base",
   "language": "python",
   "name": "python3"
  },
  "language_info": {
   "codemirror_mode": {
    "name": "ipython",
    "version": 3
   },
   "file_extension": ".py",
   "mimetype": "text/x-python",
   "name": "python",
   "nbconvert_exporter": "python",
   "pygments_lexer": "ipython3",
   "version": "3.12.4"
  }
 },
 "nbformat": 4,
 "nbformat_minor": 2
}
